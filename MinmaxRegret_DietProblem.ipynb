{
 "cells": [
  {
   "cell_type": "code",
   "execution_count": 1,
   "metadata": {
    "collapsed": true
   },
   "outputs": [],
   "source": [
    "using JuMP\n",
    "using CPLEX\n",
    "#using GLPKMathProgInterface"
   ]
  },
  {
   "cell_type": "markdown",
   "metadata": {},
   "source": [
    "## THE DIET PROBLEM (CLASSICAL LINEAR PROGRAMMING MODEL)\n",
    "\n",
    "This model determines a least cost diet which meets the daily\n",
    "allowances of nutrients for a moderately active man weighing 154 lbs.\n",
    "\n",
    "We use the classical instance for the diet problem, proposed by:\n",
    "\n",
    "Dantzig, G B, Chapter 27.1. In Linear Programming and Extensions. Princeton University Press, Princeton, New Jersey, 1963\n",
    "\n",
    "Stigler's Nutrition model, the formulation is as follows:\n",
    "\n",
    "$\\min \\sum_{j\\in \\mathbb{J}} c_j x_j$\n",
    "\n",
    "s.t.\n",
    "\n",
    "$\\sum_{j \\in \\mathbb{J}} a_{ij}x_j \\ge b_i, \\quad \\forall i \\in \\mathbb{I}$\n",
    "\n",
    "$x_{j}\\ge 0, \\quad \\forall ~j \\in \\mathbb{J}$"
   ]
  },
  {
   "cell_type": "code",
   "execution_count": 2,
   "metadata": {
    "collapsed": true
   },
   "outputs": [],
   "source": [
    "A=[44.7  1411   2.0   365  0     55.4  33.3  441  0;\n",
    "    36   897    1.7   99   30.9  17.4  7.9   106  0;\n",
    "    8.4  422    15.1  9    26    3     23.5  11   60;\n",
    "    20.6 17     0.6   6    55.8  0.2   0     0    0;\n",
    "    7.4  448    16.4  19   28.1  0.8   10.3  4    0;\n",
    "    15.7 661    1     48   0     9.6   8.1   471  0;\n",
    "    41.7 0      0     0    0.2   0     0.5   5    0;\n",
    "    2.2  333    0.2   139  169.2 6.4   50.8  316  525;\n",
    "    4.4  249    0.3   37   0     18.2  3.6   79   0;\n",
    "    5.8  705    6.8   45   3.5   1     4.9   209  0;\n",
    "    2.4  138    3.7   80   69    4.3   5.8   37   862;\n",
    "    2.6  125    4     36   7.2   9     4.5   26   5369;\n",
    "    5.8  166    3.8   59   16.6  4.7   5.9   21   1184;\n",
    "    14.3 336    1.8   118  6.7   29.4  7.1   198  2522;\n",
    "    1.1  106    0     138  918.4 5.7   13.8  33   2755;\n",
    "    9.6  138    2.7   54   290.7 8.4   5.4   83   1912;\n",
    "    8.5  87     1.7   173  86.8  1.2   4.3   55   57;\n",
    "    12.8 99     2.5   154  85.7  3.9   4.3   65   257;\n",
    "    17.4 1055   3.7   459  5.1   26.9  38.2  93   0;\n",
    "    26.9 1691   11.4  792  0     38.4  24.6  217  0]\n",
    "\n",
    "A=A';\n",
    "\n",
    "b=[30,70,0.8,12,5,1.8,2.7,18,75]\n",
    "\n",
    "c=ones(20,1);"
   ]
  },
  {
   "cell_type": "markdown",
   "metadata": {},
   "source": [
    "Creating a range for the coefficient costs"
   ]
  },
  {
   "cell_type": "code",
   "execution_count": 3,
   "metadata": {},
   "outputs": [
    {
     "data": {
      "text/plain": [
       "([0.853279,0.63812,0.955146,0.677898,0.838175,0.841128,0.870289,0.536256,0.75445,0.813477,0.986009,0.917479,0.502024,0.555906,0.989075,0.717532,0.801418,0.973895,0.848252,0.974777],[1.32364,1.19052,1.4604,1.41784,1.06978,1.43881,1.03608,1.08927,1.08865,1.22861,1.44461,1.13442,1.44869,1.01042,1.1995,1.25046,1.0577,1.26032,1.35834,1.33239])"
      ]
     },
     "execution_count": 3,
     "metadata": {},
     "output_type": "execute_result"
    }
   ],
   "source": [
    "function randomcoef(c)\n",
    "    cl=zeros(length(c));\n",
    "    cu=zeros(length(c));\n",
    "    for i=1:length(c)\n",
    "        cl[i]=c[i]-rand()/2;\n",
    "        cu[i]=c[i]+rand()/2;\n",
    "    end\n",
    "    return cl,cu\n",
    "end\n",
    "c_min,c_max=randomcoef(c)"
   ]
  },
  {
   "cell_type": "markdown",
   "metadata": {},
   "source": [
    "From now on, we contruct our Min Max Regret model which is formulated as\n",
    "\n",
    "$\\min_{x} \\max_{y,s} \\sum_{j \\in \\mathbb{J}} c^s_j x_j - c^s_j y^s_j$\n",
    "\n",
    "S.t.\n",
    "\n",
    "$\\sum_{j \\in \\mathbb{J}} a_{ij}x_j \\ge b_i, \\quad \\forall i \\in \\mathbb{I}$\n",
    "\n",
    "$\\sum_{j \\in \\mathbb{J}} a_{ij}y^s_j \\ge b_i, \\quad \\forall i \\in \\mathbb{i}, \\forall s \\in \\mathbb{S}$\n",
    "\n",
    "$x_{j}\\ge 0, \\quad \\forall ~j \\in \\mathbb{J}$\n",
    "\n",
    "$y^s_{j}\\ge 0, \\quad \\forall ~j \\in \\mathbb{J}, \\forall s \\in \\mathbb{S}$\n",
    "\n",
    "$\\underline{c}_j\\le c^s_j \\le \\overline{c}_j, \\quad \\forall ~j \\in \\mathbb{J}, \\forall s \\in \\mathbb{S}$"
   ]
  },
  {
   "cell_type": "code",
   "execution_count": 4,
   "metadata": {},
   "outputs": [
    {
     "data": {
      "text/plain": [
       "solveLP (generic function with 2 methods)"
      ]
     },
     "execution_count": 4,
     "metadata": {},
     "output_type": "execute_result"
    }
   ],
   "source": [
    "function solveLP(A,b,c,solver)\n",
    "    n=length(c)\n",
    "    m=size(A,1)\n",
    "    submodel = Model(solver = solver)\n",
    "    @variable(submodel, x[1:n]>=0)\n",
    "    @objective(submodel,Min, sum(c[j]*x[j] for j in 1:n) )\n",
    "    \n",
    "    @constraint(submodel, req[i = 1:m], sum(A[i,j]*x[j] for j in 1:n) >= b[i])\n",
    "    status = solve(submodel)\n",
    "    #print(\"solucion: \",status,\"\\n\\n\\n\")\n",
    "    valor=getobjectivevalue(submodel)\n",
    "    return valor\n",
    "end\n",
    "\n",
    "#Fixing some x\n",
    "function solveLP(A,b,c,solver,v,max)\n",
    "    n=length(c)\n",
    "    m=size(A,1)\n",
    "    submodel = Model(solver = solver)\n",
    "    @variable(submodel, x[1:n]>=0)\n",
    "    @objective(submodel,Min, sum(c[j]*x[j] for j in 1:n) )\n",
    "    \n",
    "    @constraint(submodel, req[i = 1:m], sum(A[i,j]*x[j] for j in 1:n) >= b[i])\n",
    "    @constraint(submodel, sum(v[j]*x[j] for j in 1:n)==max)\n",
    "    status = solve(submodel)\n",
    "    #print(\"solucion: \",status,\"\\n\\n\\n\")\n",
    "    valor,sol=getobjectivevalue(submodel),getvalue(x)\n",
    "    return valor,sol\n",
    "end"
   ]
  },
  {
   "cell_type": "markdown",
   "metadata": {},
   "source": [
    "We'll calculate the upper bounds for $x_j$, for this purpose, a LP is solves fixing $x_j$ at its empirical maximum\n",
    "\n",
    "$\\hat{x}_j=\\max_{i:a_{ij}>0}\\Big\\{\\frac{b_j}{a_{ij}}\\Big\\},\\qquad \\forall ~j \\in J$"
   ]
  },
  {
   "cell_type": "code",
   "execution_count": 65,
   "metadata": {
    "collapsed": true
   },
   "outputs": [],
   "source": [
    "xmax=zeros(length(c));\n",
    "for j=1:length(c)\n",
    "    v=zeros(length(c));\n",
    "    v[j]=1;\n",
    "    maxim=b[A[:,j].>0]./A[:,j][A[:,j].>0]\n",
    "    xm=maximum(maxim)\n",
    "    valor,sol=solveLP(A,b,c,CplexSolver(CPX_PARAM_SCRIND=0),v,xm)\n",
    "    #validación\n",
    "    Ar=A[:,setdiff(range(1,size(A,2)),j)]*sol[setdiff(range(1,size(A,2)),j)]\n",
    "    pos=find(x->x==xm,b./A[:,j])\n",
    "    pos1=find(x->x==xm,maxim)\n",
    "    new=xm-Ar[pos]\n",
    "    if all(maxim[setdiff(range(1,length(maxim)),pos1)].<new)\n",
    "        xmax[j]=new[1]\n",
    "    else\n",
    "        xmax[j]=maximum(maxim[setdiff(range(1,length(maxim)),pos1)])\n",
    "    end\n",
    "end"
   ]
  },
  {
   "cell_type": "code",
   "execution_count": 50,
   "metadata": {},
   "outputs": [
    {
     "name": "stderr",
     "output_type": "stream",
     "text": [
      "WARNING: Method definition SubproblemLP(Any, Any, Any, Any, Any, Int64, Any, Any, Any) in module Main at In[46]:3 overwritten at In[50]:3.\n"
     ]
    },
    {
     "data": {
      "text/plain": [
       "SubproblemLP (generic function with 1 method)"
      ]
     },
     "execution_count": 50,
     "metadata": {},
     "output_type": "execute_result"
    }
   ],
   "source": [
    "#Subproblem (NP-hard) function \n",
    "function SubproblemLP(cup,cun,solver,fix1,fix2,n::Int64,xmax,xbar,b)\n",
    "    r=size(A,1)\n",
    "    m=Model(solver = solver)\n",
    "    \n",
    "    @variable(m,yup[1:n]>=0)\n",
    "    @variable(m,yun[1:n]>=0)\n",
    "    @variable(m,zup[1:n],Bin)\n",
    "    @variable(m,zun[1:n],Bin)\n",
    "    \n",
    "    @objective(m,Max,sum(cup[j]*yun[j] for j in 1:n) + sum(cun[j]*yup[j] for j in 1:n))\n",
    "    \n",
    "    @constraint(m, req[i = 1:r], sum(A[i,j]*xbar[j] for j in 1:n) + sum(A[i,j]*yup[j] for j in 1:n) - sum(A[i,j]*yup[j] for j in 1:n) >= b[i])\n",
    "    @constraint(m, plusz[j = 1:n], zup[j]+zun[j]==1)\n",
    "    @constraint(m, plusy[j = 1:n], zup[j]*(xmax[j]-xbar[j]) >= yup[j])\n",
    "    @constraint(m, minusy[j = 1:n], zun[j]*xbar[j] >= yun[j])\n",
    "    \n",
    "    for j=1:n\n",
    "        if fix1[j]==1\n",
    "            @constraint(m, zup[j]==1)\n",
    "        else\n",
    "            if fix2[j]==1\n",
    "                @constraint(m, zun[j]==1)\n",
    "            end\n",
    "        end\n",
    "    end\n",
    "    \n",
    "    status = solve(m)\n",
    "    #print(\"solucion: \",status,\"\\n\\n\\n\")\n",
    "    valor=getobjectivevalue(m)\n",
    "    zu=getvalue(zup)\n",
    "    cost_scen=zeros(Float64,n)\n",
    "    for i=1:n\n",
    "        if zu[i]==1\n",
    "            cost_scen[i]=cun[i]\n",
    "        else\n",
    "            cost_scen[i]=cup[i]\n",
    "        end\n",
    "    end    \n",
    "    return valor,cost_scen\n",
    "end"
   ]
  },
  {
   "cell_type": "code",
   "execution_count": 63,
   "metadata": {},
   "outputs": [
    {
     "name": "stderr",
     "output_type": "stream",
     "text": [
      "WARNING: Method definition solveRLP(Any, Any, Any, Any, Any, Int64) in module Main at In[61]:3 overwritten at In[63]:3.\n",
      "WARNING: Method definition solveRLP(Any, Any, Any, Any, Any, Int64, Any) in module Main at In[61]:3 overwritten at In[63]:3.\n"
     ]
    },
    {
     "data": {
      "text/plain": [
       "solveRLP (generic function with 2 methods)"
      ]
     },
     "execution_count": 63,
     "metadata": {},
     "output_type": "execute_result"
    }
   ],
   "source": [
    "function solveRLP(A,b,cminus, cplus, xmax, n::Int64, solver=CplexSolver())\n",
    "    #We initilize the algorithm solving the original LP using the midpoint scenario\n",
    "    r=size(A,1)\n",
    "    cMidPoint=zeros(Float64,n)\n",
    "    for i in 1:n\n",
    "        cMidPoint[i]=(cminus[i]+cplus[i])/2\n",
    "    end\n",
    "    optimalCost = solveLP(A,b,cMidPoint,CplexSolver(CPX_PARAM_SCRIND=0))\n",
    "    rhs = - optimalCost \n",
    "    \n",
    "    #We set the MinMax Regret problem for the first iteration\n",
    "    m = Model(solver = solver)\n",
    "    @variable(m, x[1:n]>=0)\n",
    "    @variable(m,θ)\n",
    "\n",
    "    @objective(m, Min, θ )\n",
    "    \n",
    "    @constraint(m, req[i = 1:r], sum(A[i,j]*x[j] for j in 1:n) >= b[i])\n",
    "    \n",
    "    @constraint(m,θ - sum(cMidPoint[j]*x[j] for j in 1:n) >=rhs)        \n",
    "    #print(m)\n",
    "    \n",
    "    status = solve(m)\n",
    "    #println(status)\n",
    "    \n",
    "    #Initial bounds\n",
    "    LB=getobjectivevalue(m)\n",
    "    if LB==0\n",
    "        LBprime=-1\n",
    "    else\n",
    "        LBprime=-10*LB\n",
    "    end\n",
    "    \n",
    "    #Max admisible difference between consecutive solutions of our MinMax Regret Problem\n",
    "    tol=0.001\n",
    "    \n",
    "    #Tolerance to 0.0\n",
    "    EPSILON=0.0001\n",
    "    it=1\n",
    "    #How many consecutive solutions we want to allow with small differences (tol) till the algorithm stop, see while condition\n",
    "    conteo=0\n",
    "    \n",
    "    while conteo<=10\n",
    "        #Generating a new cut\n",
    "        rhs=0\n",
    "        x_val = getvalue(x)\n",
    "        #Analizing x we can fix some value of z+ and z- in the combinatorial subproblem\n",
    "        fixup=zeros(Int64,n)\n",
    "        fixun=zeros(Int64,n)\n",
    "        for i in 1:n\n",
    "            if x_val[i]<=EPSILON \n",
    "                fixun[i]=1\n",
    "            else\n",
    "                if x_val[i]<=(xmax[i]-EPSILON)\n",
    "                    fixup[i]=1\n",
    "                end\n",
    "            end\n",
    "        end\n",
    "        #println(\"\\t\\t\",fixup,\"\\n\")\n",
    "        #println(\"\\t\\t\",fixun,\"\\n\")\n",
    "        optimalCost,cost = SubproblemLP(cplus,cminus,CplexSolver(CPX_PARAM_SCRIND=0),fixun,fixup,n,xmax,x_val,b)\n",
    "        \n",
    "        #New cut\n",
    "        @constraint(m, θ - sum(cost[j]*x[j] for j in 1:n) >= rhs )\n",
    "        \n",
    "        status = solve(m)\n",
    "        println(status)\n",
    "        #Updating bounds\n",
    "        LBprime=LB\n",
    "        LB=getobjectivevalue(m)\n",
    "        \n",
    "        #Counting consecutive LPs with small improvements (tol) in our bounds\n",
    "        if abs(LB-LBprime)<=tol\n",
    "            conteo += 1\n",
    "        else\n",
    "            conteo = 1\n",
    "        end\n",
    "        \n",
    "        it += 1\n",
    "        print(\"GAP entre soluciones consecutivas\", abs(LB-LBprime))\n",
    "    end\n",
    "    \n",
    "    println(\"TotalIteraciones: \", it)\n",
    "    println(\"maxRegret: \",getobjectivevalue(m))\n",
    "    println(\"Solución\",getvalue(x))\n",
    "end"
   ]
  },
  {
   "cell_type": "code",
   "execution_count": 64,
   "metadata": {},
   "outputs": [
    {
     "name": "stdout",
     "output_type": "stream",
     "text": [
      "Tried aggregator 1 time.\n",
      "LP Presolve eliminated 1 rows and 3 columns.\n",
      "Reduced LP has 9 rows, 18 columns, and 144 nonzeros.\n",
      "Presolve time = 0.00 sec. (0.03 ticks)\n",
      "\n",
      "Iteration log . . .\n",
      "Iteration:     1   Dual objective     =            -0.041711\n",
      "GAP 1.0CPLEX Error  3003: Not a mixed-integer problem.\n",
      "\n",
      "Iteration log . . .\n",
      "Iteration:     1   Dual objective     =             0.007446\n",
      "Optimal\n",
      "GAP 0.5407606579330717CPLEX Error  3003: Not a mixed-integer problem.\n",
      "\n",
      "Iteration log . . .\n",
      "Iteration:     1   Dual objective     =             0.712993\n",
      "Optimal\n",
      "GAP 0.18763020656840002CPLEX Error  3003: Not a mixed-integer problem.\n",
      "\n",
      "Iteration log . . .\n",
      "Iteration:     1   Dual objective     =             0.733387\n",
      "Optimal\n",
      "GAP 0.02710849262994519CPLEX Error  3003: Not a mixed-integer problem.\n",
      "\n",
      "Iteration log . . .\n",
      "Iteration:     1   Dual objective     =             0.756794\n",
      "Optimal\n",
      "GAP 0.01103914552314822CPLEX Error  3003: Not a mixed-integer problem.\n",
      "\n",
      "Iteration log . . .\n",
      "Iteration:     1   Dual objective     =             0.770104\n",
      "Optimal\n",
      "GAP 0.02008156523299376CPLEX Error  3003: Not a mixed-integer problem.\n",
      "\n",
      "Iteration log . . .\n",
      "Iteration:     1   Dual objective     =             0.795051\n",
      "Optimal\n",
      "GAP 0.009370401243159132CPLEX Error  3003: Not a mixed-integer problem.\n",
      "\n",
      "Iteration log . . .\n",
      "Iteration:     1   Dual objective     =             0.797215\n",
      "Optimal\n",
      "GAP 0.0028716909973897087CPLEX Error  3003: Not a mixed-integer problem.\n",
      "\n",
      "Iteration log . . .\n",
      "Iteration:     1   Dual objective     =             0.801852\n",
      "Optimal\n",
      "GAP 0.0035251093980142034CPLEX Error  3003: Not a mixed-integer problem.\n",
      "\n",
      "Iteration log . . .\n",
      "Iteration:     1   Dual objective     =             0.802476\n",
      "Optimal\n",
      "GAP 0.0014911505413492954CPLEX Error  3003: Not a mixed-integer problem.\n",
      "\n",
      "Iteration log . . .\n",
      "Iteration:     1   Dual objective     =             0.805190\n",
      "Optimal\n",
      "GAP 0.0014635498588596585CPLEX Error  3003: Not a mixed-integer problem.\n",
      "\n",
      "Iteration log . . .\n",
      "Iteration:     1   Dual objective     =             0.805366\n",
      "Optimal\n",
      "GAP 0.0013205510855957563CPLEX Error  3003: Not a mixed-integer problem.\n",
      "\n",
      "Iteration log . . .\n",
      "Iteration:     1   Dual objective     =             0.807618\n",
      "Optimal\n",
      "GAP 0.0006466138798921772CPLEX Error  3003: Not a mixed-integer problem.\n",
      "\n",
      "Iteration log . . .\n",
      "Iteration:     1   Dual objective     =             0.808307\n",
      "Optimal\n",
      "GAP 0.000628585472672305CPLEX Error  3003: Not a mixed-integer problem.\n",
      "\n",
      "Iteration log . . .\n",
      "Iteration:     1   Dual objective     =             0.809063\n",
      "Optimal\n",
      "GAP 0.0006250792572878305CPLEX Error  3003: Not a mixed-integer problem.\n",
      "\n",
      "Iteration log . . .\n",
      "Iteration:     1   Dual objective     =             0.809310\n",
      "Optimal\n",
      "GAP 0.00026051015581707304CPLEX Error  3003: Not a mixed-integer problem.\n",
      "\n",
      "Iteration log . . .\n",
      "Iteration:     1   Dual objective     =             0.809342\n",
      "Optimal\n",
      "GAP 1.8347789700334793e-5CPLEX Error  3003: Not a mixed-integer problem.\n",
      "Using devex.\n",
      "Optimal\n",
      "GAP 1.1102230246251565e-16CPLEX Error  3003: Not a mixed-integer problem.\n",
      "Using devex.\n",
      "Optimal\n",
      "GAP 0.0CPLEX Error  3003: Not a mixed-integer problem.\n",
      "Using devex.\n",
      "Optimal\n",
      "GAP 0.0CPLEX Error  3003: Not a mixed-integer problem.\n",
      "Using devex.\n",
      "Optimal\n",
      "GAP 0.0CPLEX Error  3003: Not a mixed-integer problem.\n",
      "Using devex.\n",
      "Optimal\n",
      "GAP 0.0TotalIteraciones: 22\n",
      "maxRegret: 0.8093416575672965\n",
      "Solución[0.0559437,0.0,0.0,0.0,0.0390534,0.0,0.651677,0.0,0.0,0.0,0.0,0.0119093,0.0,0.0,0.00401407,0.0,0.0,0.0,0.0,0.0]\n",
      "CPLEX Error  3003: Not a mixed-integer problem.\n"
     ]
    }
   ],
   "source": [
    "solveRLP(A,b,c_min, c_max, xmax, length(c))"
   ]
  },
  {
   "cell_type": "code",
   "execution_count": null,
   "metadata": {
    "collapsed": true
   },
   "outputs": [],
   "source": []
  }
 ],
 "metadata": {
  "kernelspec": {
   "display_name": "Julia 0.5.2",
   "language": "julia",
   "name": "julia-0.5"
  },
  "language_info": {
   "file_extension": ".jl",
   "mimetype": "application/julia",
   "name": "julia",
   "version": "0.5.2"
  }
 },
 "nbformat": 4,
 "nbformat_minor": 2
}
