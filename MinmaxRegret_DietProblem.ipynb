{
 "cells": [
  {
   "cell_type": "code",
   "execution_count": 1,
   "metadata": {
    "collapsed": true
   },
   "outputs": [],
   "source": [
    "using JuMP\n",
    "using CPLEX\n",
    "using Distributions\n",
    "using MathProgBase\n",
    "#using GLPKMathProgInterface"
   ]
  },
  {
   "cell_type": "markdown",
   "metadata": {},
   "source": [
    "## THE DIET PROBLEM (CLASSICAL LINEAR PROGRAMMING MODEL)\n",
    "\n",
    "This model determines a least cost diet which meets the daily\n",
    "allowances of nutrients for a moderately active man weighing 154 lbs.\n",
    "\n",
    "We use the classical instance for the diet problem, proposed by:\n",
    "\n",
    "Dantzig, G B, Chapter 27.1. In Linear Programming and Extensions. Princeton University Press, Princeton, New Jersey, 1963\n",
    "\n",
    "Stigler's Nutrition model, the formulation is as follows:\n",
    "\n",
    "$\\min \\sum_{j\\in \\mathbb{J}} c_j x_j$\n",
    "\n",
    "s.t.\n",
    "\n",
    "$\\sum_{j \\in \\mathbb{J}} a_{ij}x_j \\ge b_i, \\quad \\forall i \\in \\mathbb{I}$\n",
    "\n",
    "$x_{j}\\ge 0, \\quad \\forall ~j \\in \\mathbb{J}$"
   ]
  },
  {
   "cell_type": "code",
   "execution_count": null,
   "metadata": {
    "collapsed": true
   },
   "outputs": [],
   "source": [
    "A=[44.7  1411   2.0   365  0     55.4  33.3  441  0;\n",
    "    36   897    1.7   99   30.9  17.4  7.9   106  0;\n",
    "    8.4  422    15.1  9    26    3     23.5  11   60;\n",
    "    20.6 17     0.6   6    55.8  0.2   0     0    0;\n",
    "    7.4  448    16.4  19   28.1  0.8   10.3  4    0;\n",
    "    15.7 661    1     48   0     9.6   8.1   471  0;\n",
    "    41.7 0      0     0    0.2   0     0.5   5    0;\n",
    "    2.2  333    0.2   139  169.2 6.4   50.8  316  525;\n",
    "    4.4  249    0.3   37   0     18.2  3.6   79   0;\n",
    "    5.8  705    6.8   45   3.5   1     4.9   209  0;\n",
    "    2.4  138    3.7   80   69    4.3   5.8   37   862;\n",
    "    2.6  125    4     36   7.2   9     4.5   26   5369;\n",
    "    5.8  166    3.8   59   16.6  4.7   5.9   21   1184;\n",
    "    14.3 336    1.8   118  6.7   29.4  7.1   198  2522;\n",
    "    1.1  106    0     138  918.4 5.7   13.8  33   2755;\n",
    "    9.6  138    2.7   54   290.7 8.4   5.4   83   1912;\n",
    "    8.5  87     1.7   173  86.8  1.2   4.3   55   57;\n",
    "    12.8 99     2.5   154  85.7  3.9   4.3   65   257;\n",
    "    17.4 1055   3.7   459  5.1   26.9  38.2  93   0;\n",
    "    26.9 1691   11.4  792  0     38.4  24.6  217  0]\n",
    "\n",
    "A=A';\n",
    "\n",
    "b=[30,70,0.8,12,5,1.8,2.7,18,75]\n",
    "\n",
    "c=ones(20,1);"
   ]
  },
  {
   "cell_type": "code",
   "execution_count": null,
   "metadata": {
    "collapsed": true
   },
   "outputs": [],
   "source": [
    "A=[ 5   15;\n",
    "    20   5;\n",
    "    15   2]\n",
    "\n",
    "b=[50,40,60]\n",
    "\n",
    "c=[5,2];"
   ]
  },
  {
   "cell_type": "markdown",
   "metadata": {},
   "source": [
    "Creating a range for the coefficient costs"
   ]
  },
  {
   "cell_type": "code",
   "execution_count": 2,
   "metadata": {},
   "outputs": [
    {
     "data": {
      "text/plain": [
       "randomcoef (generic function with 1 method)"
      ]
     },
     "execution_count": 2,
     "metadata": {},
     "output_type": "execute_result"
    }
   ],
   "source": [
    "function randomcoef(c)\n",
    "    cl=zeros(length(c));\n",
    "    cu=zeros(length(c));\n",
    "    for i=1:length(c)\n",
    "        cl[i]=c[i]-(c[i]*rand()/2);\n",
    "        cu[i]=c[i]+(c[i]*rand()/2);\n",
    "    end\n",
    "    return cl,cu\n",
    "end\n",
    "#c_min,c_max=randomcoef(c)"
   ]
  },
  {
   "cell_type": "markdown",
   "metadata": {},
   "source": [
    "From now on, we contruct our Min Max Regret model which is formulated as\n",
    "\n",
    "$\\min_{x} \\max_{y,s} \\sum_{j \\in \\mathbb{J}} c^s_j x_j - c^s_j y^s_j$\n",
    "\n",
    "S.t.\n",
    "\n",
    "$\\sum_{j \\in \\mathbb{J}} a_{ij}x_j \\ge b_i, \\quad \\forall i \\in \\mathbb{I}$\n",
    "\n",
    "$\\sum_{j \\in \\mathbb{J}} a_{ij}y^s_j \\ge b_i, \\quad \\forall i \\in \\mathbb{i}, \\forall s \\in \\mathbb{S}$\n",
    "\n",
    "$x_{j}\\ge 0, \\quad \\forall ~j \\in \\mathbb{J}$\n",
    "\n",
    "$y^s_{j}\\ge 0, \\quad \\forall ~j \\in \\mathbb{J}, \\forall s \\in \\mathbb{S}$\n",
    "\n",
    "$\\underline{c}_j\\le c^s_j \\le \\overline{c}_j, \\quad \\forall ~j \\in \\mathbb{J}, \\forall s \\in \\mathbb{S}$"
   ]
  },
  {
   "cell_type": "code",
   "execution_count": 6,
   "metadata": {},
   "outputs": [
    {
     "data": {
      "text/plain": [
       "solveLP (generic function with 2 methods)"
      ]
     },
     "execution_count": 6,
     "metadata": {},
     "output_type": "execute_result"
    }
   ],
   "source": [
    "function solveLP(A,b,c,solver)\n",
    "    n=length(c)\n",
    "    m=size(A,1)\n",
    "    submodel = Model(solver = solver)\n",
    "    @variable(submodel, x[1:n]>=0)\n",
    "    @objective(submodel,Min, sum(c[j]*x[j] for j in 1:n) )\n",
    "    \n",
    "    @constraint(submodel, req[i = 1:m], sum(A[i,j]*x[j] for j in 1:n) >= b[i])\n",
    "    status = solve(submodel)\n",
    "    #print(\"solucion: \",status,\"\\n\\n\\n\")\n",
    "    valor=getobjectivevalue(submodel)\n",
    "    return valor\n",
    "end\n",
    "\n",
    "#Fixing some x\n",
    "function solveLP(A,b,c,solver,v,max)\n",
    "    n=length(c)\n",
    "    m=size(A,1)\n",
    "    submodel = Model(solver = solver)\n",
    "    @variable(submodel, x[1:n]>=0)\n",
    "    @objective(submodel,Min, sum(c[j]*x[j] for j in 1:n) )\n",
    "    \n",
    "    @constraint(submodel, req[i = 1:m], sum(A[i,j]*x[j] for j in 1:n) >= b[i])\n",
    "    @constraint(submodel, sum(v[j]*x[j] for j in 1:n)==max)\n",
    "    status = solve(submodel)\n",
    "    #print(\"solucion: \",status,\"\\n\\n\\n\")\n",
    "    valor,sol=getobjectivevalue(submodel),getvalue(x)\n",
    "    return valor,sol\n",
    "end"
   ]
  },
  {
   "cell_type": "markdown",
   "metadata": {},
   "source": [
    "We'll calculate the upper bounds for $x_j$, for this purpose, a LP is solved fixing $x_j$ at its empirical maximum\n",
    "\n",
    "$\\hat{x}_j=\\max_{i:a_{ij}>0}\\Big\\{\\frac{b_j}{a_{ij}}\\Big\\},\\qquad \\forall ~j \\in J$"
   ]
  },
  {
   "cell_type": "code",
   "execution_count": 7,
   "metadata": {},
   "outputs": [
    {
     "name": "stdout",
     "output_type": "stream",
     "text": [
      "[39.935,42.9525,45.5621,41.4995,27.309,29.859,28.258,54.5871,45.0542,27.5793,47.1041,37.9494,39.071,25.9467,37.7268,42.9525,31.2754,30.266,44.0277,47.1041,46.723,32.4863,34.4977,31.6582,42.2995,30.3675,27.8551,36.3531,64.3517,22.1295,43.555,37.539,58.4415,57.4962,30.6406,36.8953,40.028,40.028,32.7433,50.383,32.2196,60.735,45.7334,48.2968,46.024,38.9908,31.9017,36.0755,45.0542,31.3195,42.9525,50.383,51.6327,28.472,34.05,35.2318,80.4947,29.4741,57.53,46.3143,39.071,42.7759,49.9118,57.4962,41.5826,29.6248,45.4892,44.1601,40.5488,34.496,27.3885,30.0654,30.308,42.9525,44.7086,54.4492,78.142,53.9028,36.376,40.5245,46.024,39.719,37.7319,57.4962,36.1278,40.2745,36.236,42.7759,32.8884,39.663,55.4806,45.0542,57.53,93.878,47.7819,42.7815,64.3517,54.3508,62.3536,42.7815,36.5885,59.37,34.05,37.539,29.388,44.2926,29.388,35.4372,24.726,35.6155,25.5893,30.308,39.071,30.6506,35.5269,54.5871,61.7183,43.555,49.6406,39.663,37.539,27.0566,50.383,43.3151,64.3517,47.523,49.5868,39.663,38.1264,32.1758,31.8935,32.2773,46.723,46.0724,35.4372,59.37,27.8561,25.2549,56.516,45.2921,36.3636,43.7723,59.2282,47.6892,56.4263,51.6747,31.6927,56.516,31.3195,42.2995,40.1391,57.53,33.1541,37.539,41.5826,45.2921,38.4983,28.2264,34.1169,42.7815,59.37,27.006,64.1638,29.685,46.024,38.611,37.539,62.5273,39.071,34.4498,31.6213,39.8669,39.663,35.4168,51.0772,40.028,52.3984,33.0577,29.685,33.2301,45.399,30.5775,39.071,46.0724,39.071,44.226,34.8162,28.9459,39.8669,32.4863,29.685,53.6993,43.8345,39.071,27.3885,35.7783,33.5887,47.1586,56.516,33.2607,60.735,33.0207,47.2528,57.53,30.3029,28.635,59.37,35.6155,64.5547,47.523,36.9623,57.9268,38.7328,36.3636,43.2906,37.5867,78.142,31.439,39.071,37.4338,38.7328,39.071,36.236,39.8669,29.685,49.9118,28.765,30.3262,60.9779,34.0637,27.055,43.5658,24.7746,47.523,37.944,29.2694,42.0787,60.735,36.9623,33.3573,39.071,57.7534,44.7086,48.2638,39.594,37.539,38.8113,41.958,30.9219,32.1758,40.028,37.539,43.555,57.53,61.5973,36.6528,34.7374,31.6213,32.4863,40.028,27.006,21.6824,37.539,40.028,32.2196,27.3885,34.1169,33.6458,34.0451,50.4686,42.9525,45.4892,37.6494,60.735,38.3008,29.685,33.6645,53.9028,71.1462,42.9525,30.3029,33.2661,37.539,43.555,47.523,46.024,58.9482,39.8669,34.9323,37.539,48.416,38.3533,21.2191,35.5124,36.6528,42.7815,33.6847,59.37,47.523,48.416,46.723,37.539,40.028,24.2507,54.4492,46.0724,47.432,30.308,30.5775,64.0244,35.4372,44.7086,48.2638,30.9256,50.4686,36.0616,47.6892,43.988,29.859,32.782,29.506,37.539,29.992,46.723,49.6406,33.2661,57.9684,37.2984,109.765,48.416,47.432,42.9525,39.071,41.3398,56.516,42.9525,42.8714,47.1586,32.0122,37.539,37.539,64.9726,48.416,41.5826,31.6213,34.496,74.2544,32.1758,47.6998,30.3675,59.37,38.7328,27.006,67.0789,34.05,30.308,57.53,33.7906,62.2493,33.5887,33.2661,49.7994,29.5023,42.9525,47.432,27.3885,31.5157,43.7723,45.399,34.0451,60.735,54.5454,39.4854,30.266,59.37,39.8669,48.2638,62.0097,28.258,33.2058,30.266,35.0795,76.7067,39.9294,40.2745,39.8669,43.5658,63.5484,36.236,43.4217,30.1043,35.4027,44.2926,29.0367,34.9323,31.0048,24.2507,23.012,33.5887,33.731,31.7742,39.2988,39.071,46.024,30.266,41.9901,33.0207,41.5826,36.9623,51.0956,29.388,44.1601,34.0909,47.432,51.1363,38.3533,58.9482,42.7815,33.5887,41.9051,40.7034,34.05,43.8345,36.376,32.782,30.308,33.731,45.3621,57.4962,46.0724,52.3984,37.539,43.3151,35.4372,32.8743,39.726,42.9525,52.3984,32.1843,39.594,46.723,38.3533,39.071,32.1101,35.571,68.1818,37.539,43.555,45.4545,51.3311,38.611,42.9525,74.2544,57.53,46.4392,42.2995,39.071,48.416,41.5826,46.3143,40.2745,42.7815,39.594,30.9256,39.2988,38.055,38.5124,42.0787,30.3262,39.335,32.8743,44.226,55.2287,56.516,47.1586,41.0074,40.2745,34.6521,45.5621,28.3139,38.7328,48.2638,38.611,29.494,38.3533,30.9219,32.2773,27.055,39.7849,42.7815,36.8953,30.2419,56.439,36.9623,28.1997,74.0619,46.7532,27.8551,41.5826,58.9482,44.0277,29.859,54.8827,39.741,30.7986,39.8669,42.9525,27.7218,40.9649,30.5775,34.0451,37.539,39.2988,54.5871,36.3914,71.0247,34.6521,44.9747,39.9294,57.53,47.1041,32.1164,59.6115,47.6892,36.236,55.026,48.416,30.308,46.787,44.886,37.539,39.4854,78.142,39.071,29.685,48.416,35.4372,50.383,59.37,38.3533,38.3008,39.8669,38.3533,35.6155,44.226,75.4638,59.37,45.399,38.3533,29.5023,41.6352,42.2995,29.859,39.663,38.611,53.6993,38.9908,39.8669,41.4995,28.635,57.9268,26.2243,57.53,38.8113,57.8956,56.516,31.6213,32.2196,38.611,31.6213,37.4338,50.383,41.6352,28.258,36.376,46.024,47.4873,26.494,33.6458,30.3675,27.6663,30.3675,33.2302,43.1221,78.1591,44.7193,35.2318,26.9607,31.8935,41.5826,30.5754,32.1758,54.5871,42.2995,29.685,42.9525,26.0473,39.663,21.7109,30.7986]\n"
     ]
    }
   ],
   "source": [
    "xmax=zeros(length(c));\n",
    "for j=1:length(c)\n",
    "    v=zeros(length(c));\n",
    "    v[j]=1;\n",
    "    maxim=b[A[:,j].>0]./A[:,j][A[:,j].>0]\n",
    "    xm=maximum(maxim)\n",
    "    valor,sol=solveLP(A,b,c,CplexSolver(CPX_PARAM_SCRIND=0),v,xm)\n",
    "    #validación\n",
    "    Ar=A[:,setdiff(range(1,size(A,2)),j)]*sol[setdiff(range(1,size(A,2)),j)]\n",
    "    pos=find(x->x==xm,b./A[:,j])\n",
    "    pos1=find(x->x==xm,maxim)\n",
    "    new=xm-Ar[pos]\n",
    "    if all(maxim[setdiff(range(1,length(maxim)),pos1)].<new)\n",
    "        xmax[j]=new[1]\n",
    "    else\n",
    "        xmax[j]=maximum(maxim[setdiff(range(1,length(maxim)),pos1)])\n",
    "    end\n",
    "end\n",
    "println(xmax)"
   ]
  },
  {
   "cell_type": "code",
   "execution_count": 8,
   "metadata": {},
   "outputs": [
    {
     "data": {
      "text/plain": [
       "SubproblemLP (generic function with 1 method)"
      ]
     },
     "execution_count": 8,
     "metadata": {},
     "output_type": "execute_result"
    }
   ],
   "source": [
    "#Subproblem (NP-hard) function \n",
    "function SubproblemLP(cup,cun,solver,fix1,fix2,n::Int64,xmax,xbar,b)\n",
    "    r=size(A,1)\n",
    "    tol=1e-6\n",
    "    m=Model(solver = solver)\n",
    "    \n",
    "    @variable(m,yup[1:n]>=0)\n",
    "    @variable(m,yun[1:n]>=0)\n",
    "    @variable(m,zup[1:n],Bin)\n",
    "    @variable(m,zun[1:n],Bin)\n",
    "    \n",
    "    ind=[]\n",
    "    for j=1:n\n",
    "        if fix1[j]>=1-tol\n",
    "            #println(\"upper\")\n",
    "            setvalue(zup[j],1)\n",
    "            setvalue(zun[j],0)\n",
    "            setupperbound(yup[j],xmax[j]-xbar[j])\n",
    "            setupperbound(yun[j],0)\n",
    "        else\n",
    "            if fix2[j]>=1-tol\n",
    "                #println(\"under\")\n",
    "                setvalue(zup[j],0)\n",
    "                setvalue(zun[j],1)\n",
    "                setupperbound(yup[j],0)\n",
    "                setupperbound(yun[j],xbar[j])\n",
    "            else\n",
    "                push!(ind,j)\n",
    "                #println(\"Algo pasa\")\n",
    "            end\n",
    "        end\n",
    "    end\n",
    "    \n",
    "    @objective(m,Max,sum(cup[j]*yun[j] for j in 1:n) - sum(cun[j]*yup[j] for j in 1:n))\n",
    "    \n",
    "    @constraint(m, req[i = 1:r], sum(A[i,j]*xbar[j] for j in 1:n) + sum(A[i,j]*yup[j] for j in 1:n) - sum(A[i,j]*yun[j] for j in 1:n) >= b[i])\n",
    "    @constraint(m, plusz[j in ind], zup[j]+zun[j]==1)\n",
    "    @constraint(m, plusy[j in ind], (xmax[j]-xbar[j])*zup[j] >= yup[j])\n",
    "    @constraint(m, minusy[j in ind], xbar[j]*zun[j] >= yun[j])\n",
    "    \n",
    "    #print(\"-----------------SUB-------------------\")\n",
    "    #println(m)\n",
    "    #print(\"-----------------SUB-------------------\")\n",
    "    \n",
    "    status = solve(m)\n",
    "    #print(\"solucion: \",status,\"\\n\\n\\n\")\n",
    "    valor=getobjectivevalue(m)\n",
    "    zu=getvalue(zup)\n",
    "    #println(\"valor z \",zu)\n",
    "    cost_scen=zeros(Float64,n)\n",
    "    for i=1:n\n",
    "        if zu[i]>=1-tol\n",
    "            cost_scen[i]=cun[i]\n",
    "        else\n",
    "            cost_scen[i]=cup[i]\n",
    "        end\n",
    "    end    \n",
    "    return valor,cost_scen\n",
    "end"
   ]
  },
  {
   "cell_type": "code",
   "execution_count": 9,
   "metadata": {},
   "outputs": [
    {
     "data": {
      "text/plain": [
       "solveRLP (generic function with 2 methods)"
      ]
     },
     "execution_count": 9,
     "metadata": {},
     "output_type": "execute_result"
    }
   ],
   "source": [
    "function solveRLP(A,b,cminus, cplus, xmax, n::Int64, solver=CplexSolver(CPX_PARAM_LPMETHOD=1))\n",
    "    #We initilize the algorithm solving the original LP using the midpoint scenario\n",
    "    r=size(A,1)\n",
    "    cMidPoint=zeros(Float64,n)\n",
    "    for i in 1:n\n",
    "        cMidPoint[i]=(cminus[i]+cplus[i])/2\n",
    "    end\n",
    "    optimalCost = solveLP(A,b,cMidPoint,CplexSolver(CPX_PARAM_SCRIND=0))\n",
    "    rhs = - optimalCost \n",
    "    \n",
    "    #We set the MinMax Regret problem for the first iteration\n",
    "    m = Model(solver = solver)\n",
    "    @variable(m, x[1:n]>=0)\n",
    "    @variable(m,θ)\n",
    "\n",
    "    @objective(m, Min, θ )\n",
    "    \n",
    "    @constraint(m, req[i = 1:r], sum(A[i,j]*x[j] for j in 1:n) >= b[i])\n",
    "    \n",
    "    @constraint(m,θ - sum(cMidPoint[j]*x[j] for j in 1:n) >=rhs)        \n",
    "    #print(m)\n",
    "    \n",
    "    status = solve(m)\n",
    "    #println(status)\n",
    "    #println(getvalue(x))\n",
    "    println(\"LB: \", getobjectivevalue(m))\n",
    "    \n",
    "    #Max admisible difference between consecutive solutions of our MinMax Regret Problem\n",
    "    tol=0.0001\n",
    "    \n",
    "    #Initial bounds\n",
    "    LB=getobjectivevalue(m)\n",
    "    if LB<=tol\n",
    "        LBprime=-1\n",
    "    else\n",
    "        LBprime=-10*LB\n",
    "    end\n",
    "    \n",
    "    #Tolerance to 0.0\n",
    "    EPSILON=0.0001\n",
    "    it=1\n",
    "    \n",
    "    conteo=0\n",
    "    \n",
    "    println(\"Prueba LB\",abs(LB-LBprime))\n",
    "    while abs(LB-LBprime)>=tol#conteo<=10\n",
    "        #Generating a new cut\n",
    "        rhs=0\n",
    "        x_val = getvalue(x)\n",
    "        #Analizing x we can fix some value of z+ and z- in the combinatorial subproblem\n",
    "        fixup=zeros(Int64,n)\n",
    "        fixun=zeros(Int64,n)\n",
    "        for i in 1:n\n",
    "            if x_val[i]<=EPSILON \n",
    "                fixun[i]=1\n",
    "            else\n",
    "                if x_val[i]>=(xmax[i]-EPSILON)\n",
    "                    fixup[i]=1\n",
    "                end\n",
    "            end\n",
    "        end\n",
    "        #println(\"\\t\\t\",fixup,\"\\n\")\n",
    "        #println(\"\\t\\t\",fixun,\"\\n\")\n",
    "        tt=time()\n",
    "        optimalCost,cost = SubproblemLP(cplus,cminus,CplexSolver(CPX_PARAM_SCRIND=0),fixun,fixup,n,xmax,x_val,b)\n",
    "        println(\"Tiempo subproblema: \", time()-tt)\n",
    "        println(\"Costo optimo subproblema: \", optimalCost)\n",
    "        #New cut\n",
    "        tt1=time()\n",
    "        rhs=solveLP(A,b,cost,CplexSolver(CPX_PARAM_SCRIND=0))\n",
    "        println(\"Tiempo RHS: \", time()-tt1)\n",
    "        @constraint(m, θ - sum(cost[j]*x[j] for j in 1:n) >= -rhs )\n",
    "        \n",
    "        #print(\"-----------------######-------------------\")\n",
    "        #print(m)\n",
    "        #print(\"-----------------######-------------------\")\n",
    "        \n",
    "        tt2=time()\n",
    "        status = solve(m)\n",
    "        println(\"Tiempo LP: \", time()-tt2)\n",
    "        println(status)\n",
    "        #println(getvalue(x))\n",
    "        #Updating bounds\n",
    "        LBprime=LB\n",
    "        LB=getobjectivevalue(m)\n",
    "        \n",
    "        #Counting consecutive LPs with small improvements (tol) in our bounds\n",
    "        #if abs(LB-LBprime)<=tol\n",
    "        #    conteo += 1\n",
    "        #else\n",
    "        #    conteo = 1\n",
    "        #end\n",
    "        println(\"LB: \", getobjectivevalue(m))\n",
    "        it += 1\n",
    "        #print(\"GAP entre soluciones consecutivas\", abs(LB-LBprime))\n",
    "    end\n",
    "    \n",
    "    println(\"TotalIteraciones: \", it)\n",
    "    println(\"maxRegret: \",getobjectivevalue(m))\n",
    "    println(\"Solución\",getvalue(x))\n",
    "end"
   ]
  },
  {
   "cell_type": "code",
   "execution_count": 10,
   "metadata": {},
   "outputs": [
    {
     "name": "stdout",
     "output_type": "stream",
     "text": [
      "CPXPARAM_LPMethod                                1\n",
      "Tried aggregator 1 time.\n",
      "LP Presolve eliminated 1 rows and 1 columns.\n",
      "Reduced LP has 480 rows, 600 columns, and 278437 nonzeros.\n",
      "Presolve time = 0.22 sec. (31.30 ticks)\n",
      "\n",
      "Iteration log . . .\n",
      "Iteration:     1    Scaled infeas =            14.835535\n",
      "Iteration:     8    Objective     =          1849.610917\n",
      "LB: -3.7306690738754696e-15\n",
      "Prueba LB0.9999999999999967\n",
      "Tiempo subproblema: 11.499998950958252\n",
      "Costo optimo subproblema: 4.946175153698256\n",
      "Tiempo RHS: 0.5731499195098877\n",
      "CPLEX Error  3003: Not a mixed-integer problem.\n",
      "CPXPARAM_LPMethod                                1\n",
      "\n",
      "Iteration log . . .\n",
      "Iteration:     1    Scaled infeas =             0.000000\n",
      "Iteration:     2    Objective     =             4.942340\n",
      "Tiempo LP: 1.048902988433838\n",
      "Optimal\n",
      "LB: 0.6338729601075019\n",
      "Tiempo subproblema: 6.68617395401001\n",
      "Costo optimo subproblema: 7.032151182108639\n",
      "Tiempo RHS: 0.1826299209594727\n",
      "CPLEX Error  3003: Not a mixed-integer problem.\n",
      "CPXPARAM_LPMethod                                1\n",
      "\n",
      "Iteration log . . .\n",
      "Iteration:     1    Scaled infeas =             5.664815\n",
      "Iteration:    72    Objective     =             9.772055\n",
      "Tiempo LP: 0.33910916709899902\n",
      "Optimal\n",
      "LB: 1.5816624892642484\n",
      "Tiempo subproblema: 6.324471035003662\n",
      "Costo optimo subproblema: 7.935029484455741\n",
      "Tiempo RHS: 0.5592999458312988\n",
      "CPLEX Error  3003: Not a mixed-integer problem.\n",
      "CPXPARAM_LPMethod                                1\n",
      "\n",
      "Iteration log . . .\n",
      "Iteration:     1    Scaled infeas =             6.021385\n",
      "Iteration:    53    Objective     =            21.188090\n",
      "Tiempo LP: 0.17732810974121094\n",
      "Optimal\n",
      "LB: 2.395280954885419\n",
      "CPLEX Error  3003: Not a mixed-integer problem.\n"
     ]
    },
    {
     "ename": "LoadError",
     "evalue": "InterruptException:",
     "output_type": "error",
     "traceback": [
      "InterruptException:",
      "",
      " in #solve#114(::Bool, ::Bool, ::Bool, ::Array{Any,1}, ::Function, ::JuMP.Model) at /opt/julia/v0.5/JuMP/src/solvers.jl:175",
      " in SubproblemLP(::Array{Float64,1}, ::Array{Float64,1}, ::CPLEX.CplexSolver, ::Array{Int64,1}, ::Array{Int64,1}, ::Int64, ::Array{Float64,1}, ::Array{Float64,1}, ::Array{Float64,2}) at ./In[8]:45",
      " in solveRLP(::Array{Float64,2}, ::Array{Float64,2}, ::Array{Float64,1}, ::Array{Float64,1}, ::Array{Float64,1}, ::Int64, ::CPLEX.CplexSolver) at ./In[9]:65",
      " in solveRLP(::Array{Float64,2}, ::Array{Float64,2}, ::Array{Float64,1}, ::Array{Float64,1}, ::Array{Float64,1}, ::Int64) at ./In[9]:3",
      " in include_string(::String, ::String) at ./loading.jl:441"
     ]
    }
   ],
   "source": [
    "solveRLP(A,b,c_min, c_max, xmax, length(c))"
   ]
  },
  {
   "cell_type": "code",
   "execution_count": null,
   "metadata": {
    "collapsed": true,
    "scrolled": true
   },
   "outputs": [],
   "source": [
    "#Modelo completo\n",
    "A=[ 5   15;\n",
    "    20   5;\n",
    "    15   2]\n",
    "b=[50,40,60]\n",
    "c=[7.5,2];\n",
    "c_min=[6,1]\n",
    "c_max=[9,3]\n",
    "\n",
    "y1=solveLP(A,b,[6,1],CplexSolver(CPX_PARAM_SCRIND=0))\n",
    "println(\"y1 opt: \", y1)\n",
    "y2=solveLP(A,b,[6,3],CplexSolver(CPX_PARAM_SCRIND=0))\n",
    "println(\"y2 opt: \", y2)\n",
    "y3=solveLP(A,b,[9,1],CplexSolver(CPX_PARAM_SCRIND=0))\n",
    "println(\"y3 opt: \", y3)\n",
    "y4=solveLP(A,b,[9,3],CplexSolver(CPX_PARAM_SCRIND=0))\n",
    "println(\"y4 opt: \", y4)\n",
    "\n",
    "M=Model(solver=CplexSolver(CPX_PARAM_SCRIND=0))\n",
    "\n",
    "@variable(M, x[1:2]>=0)\n",
    "@variable(M, t)\n",
    "\n",
    "@objective(M, Min, t)\n",
    "\n",
    "@constraint(M, req[i = 1:3], sum(A[i,j]*x[j] for j in 1:2) >= b[i])\n",
    "@constraint(M, t >= 6*x[1]+x[2]-y1)\n",
    "@constraint(M, t >= 6*x[1]+3*x[2]-y2)\n",
    "@constraint(M, t >= 9*x[1]+x[2]-y3)\n",
    "@constraint(M, t >= 9*x[1]+3*x[2]-y4)\n",
    "\n",
    "print(M)\n",
    "\n",
    "status = solve(M)\n",
    "println(getobjectivevalue(M))\n",
    "println(getvalue(x))\n",
    "println(A*getvalue(x))"
   ]
  },
  {
   "cell_type": "code",
   "execution_count": 11,
   "metadata": {},
   "outputs": [
    {
     "data": {
      "text/plain": [
       "check_distance (generic function with 1 method)"
      ]
     },
     "execution_count": 11,
     "metadata": {},
     "output_type": "execute_result"
    }
   ],
   "source": [
    "function check_solution(zval,cun,cup)\n",
    "    cost_scen=zeros(Float64,length(zval))\n",
    "    tol=1e-6\n",
    "    intsol=true\n",
    "    for i=1:length(zval)\n",
    "        if zval[i]>=1-tol\n",
    "            cost_scen[i]=cun[i]\n",
    "        else\n",
    "            if zval[i]<=tol\n",
    "                cost_scen[i]=cup[i]\n",
    "            else\n",
    "                intsol=false\n",
    "            end\n",
    "        end\n",
    "    end\n",
    "    return intsol,cost_scen\n",
    "end\n",
    "\n",
    "function check_distance(scens,costscen,mindis)\n",
    "    setdis=true\n",
    "    tol=1e-6\n",
    "    for i=1:size(scens,1)\n",
    "        cont=0\n",
    "        for j=1:size(scens,2)\n",
    "            if costscen[j]>=scens[i,j]-tol && costscen[j]<=scens[i,j]+tol\n",
    "                cont +=1\n",
    "                println(cont)\n",
    "            end\n",
    "        end\n",
    "        if cont/size(scens,2)>mindis\n",
    "            setdis=false\n",
    "            return setdis\n",
    "        end\n",
    "    end\n",
    "    return setdis\n",
    "end"
   ]
  },
  {
   "cell_type": "code",
   "execution_count": 18,
   "metadata": {},
   "outputs": [
    {
     "name": "stderr",
     "output_type": "stream",
     "text": [
      "WARNING: Method definition (::Type{Main.NodeData})(Float64, Float64) in module Main at In[15]:2 overwritten at In[18]:2.\n",
      "WARNING: Method definition (::Type{Main.NodeData})(Any, Any) in module Main at In[15]:2 overwritten at In[18]:2.\n",
      "WARNING: Method definition SubproblemLPim(Any, Any, Any, Any, Any, Int64, Any, Any, Any, Any, Any, Any, Any, Any) in module Main at In[15]:8 overwritten at In[18]:8.\n"
     ]
    },
    {
     "data": {
      "text/plain": [
       "SubproblemLPim (generic function with 1 method)"
      ]
     },
     "execution_count": 18,
     "metadata": {},
     "output_type": "execute_result"
    }
   ],
   "source": [
    "type NodeData\n",
    "    time::Float64  # in seconds since the epoch\n",
    "    obj::Float64\n",
    "end\n",
    "\n",
    "#Subproblem (NP-hard) function \n",
    "function SubproblemLPim(cup,cun,solver,fix1,fix2,n::Int64,xmax,xbar,b,zopt,tt,scens,timemax,mindis)\n",
    "    r=size(A,1)\n",
    "    tol=1e-6\n",
    "    m=Model(solver = solver)\n",
    "    \n",
    "    @variable(m,yup[1:n]>=0)\n",
    "    @variable(m,yun[1:n]>=0)\n",
    "    @variable(m,zup[1:n],Bin)\n",
    "    @variable(m,zun[1:n],Bin)\n",
    "    \n",
    "    ind=[]\n",
    "    for j=1:n\n",
    "        if fix1[j]>=1-tol\n",
    "            setvalue(zup[j],1)\n",
    "            setvalue(zun[j],0)\n",
    "            setupperbound(yup[j],xmax[j]-xbar[j])\n",
    "            setupperbound(yun[j],0)\n",
    "        else\n",
    "            if fix2[j]>=1-tol\n",
    "                #println(\"under\")\n",
    "                setvalue(zup[j],0)\n",
    "                setvalue(zun[j],1)\n",
    "                setupperbound(yup[j],0)\n",
    "                setupperbound(yun[j],xbar[j])\n",
    "            else\n",
    "                push!(ind,j)\n",
    "                #println(\"Algo pasa\")\n",
    "            end\n",
    "        end\n",
    "    end\n",
    "    \n",
    "    @objective(m,Max,sum(cup[j]*yun[j] for j in 1:n) - sum(cun[j]*yup[j] for j in 1:n))\n",
    "    \n",
    "    @constraint(m, req[i = 1:r], sum(A[i,j]*xbar[j] for j in 1:n) + sum(A[i,j]*yup[j] for j in 1:n) - sum(A[i,j]*yun[j] for j in 1:n) >= b[i])\n",
    "    @constraint(m, plusz[j in ind], zup[j]+zun[j]==1)\n",
    "    @constraint(m, plusy[j in ind], (xmax[j]-xbar[j])*zup[j] >= yup[j])\n",
    "    @constraint(m, minusy[j in ind], xbar[j]*zun[j] >= yun[j])\n",
    "    \n",
    "    #print(\"-----------------SUB-------------------\")\n",
    "    #println(m)\n",
    "    #print(\"-----------------SUB-------------------\")\n",
    "    \n",
    "    #function getcursol(cb)\n",
    "    #    zval=getvalue(zup)\n",
    "    #    obj=MathProgBase.cbgetobj(cb)\n",
    "    #    cost_scen=zeros(length(zval))\n",
    "    #    println(\"Solución parcial: \", obj)\n",
    "    #    println(\"zval \", zval)\n",
    "    #    \n",
    "    #    intsol, cost_scen = check_solution(zval,cun,cup)\n",
    "    #    println(\"Es entera la solución:\", intsol)\n",
    "    #    \n",
    "    #    setdis = check_distance(scens,cost_scen,mindis)\n",
    "    #    println(\"Cumple condiciones de distancia: \", setdis)\n",
    "    #    \n",
    "    #    if (obj-zopt)/zopt>0.1 && intsol==true && setdis==true\n",
    "    #        println(\"Solucion satisface condiciones para agregar el escenario\")\n",
    "    #        return JuMP.StopTheSolver\n",
    "    #    end\n",
    "    #end\n",
    "    \n",
    "    #if time()-tt<=timemax\n",
    "    #    addlazycallback(m,getcursol)\n",
    "    #end\n",
    "    bbdata = NodeData[]\n",
    "    \n",
    "    \n",
    "    function infocallback(cb)\n",
    "        obj       = MathProgBase.cbgetobj(cb)\n",
    "        push!(bbdata, NodeData(time(),obj))\n",
    "    end\n",
    "    addinfocallback(m, infocallback, when = :MIPNode)\n",
    "    \n",
    "    println(bbdata)\n",
    "\n",
    "    status = solve(m)\n",
    "    #print(\"solucion: \",status,\"\\n\\n\\n\")\n",
    "    valor=getobjectivevalue(m)\n",
    "    zu=getvalue(zup)\n",
    "    #println(\"valor z \",zu)\n",
    "    cost_scen=zeros(Float64,n)\n",
    "    for i=1:n\n",
    "        if zu[i]>=1-tol\n",
    "            cost_scen[i]=cun[i]\n",
    "        else\n",
    "            cost_scen[i]=cup[i]\n",
    "        end\n",
    "    end     \n",
    "    return valor,cost_scen\n",
    "end"
   ]
  },
  {
   "cell_type": "code",
   "execution_count": 19,
   "metadata": {},
   "outputs": [
    {
     "name": "stderr",
     "output_type": "stream",
     "text": [
      "WARNING: Method definition solveRLPim(Any, Any, Any, Any, Any, Int64, Any, Any) in module Main at In[16]:3 overwritten at In[19]:3.\n",
      "WARNING: Method definition solveRLPim(Any, Any, Any, Any, Any, Int64, Any, Any, Any) in module Main at In[16]:3 overwritten at In[19]:3.\n"
     ]
    },
    {
     "data": {
      "text/plain": [
       "solveRLPim (generic function with 2 methods)"
      ]
     },
     "execution_count": 19,
     "metadata": {},
     "output_type": "execute_result"
    }
   ],
   "source": [
    "function solveRLPim(A,b,cminus, cplus, xmax, n::Int64,timemax,mindis,solver=CplexSolver(CPX_PARAM_LPMETHOD=1))\n",
    "    #We initilize the algorithm solving the original LP using the midpoint scenario\n",
    "    r=size(A,1)\n",
    "    cMidPoint=zeros(Float64,n)\n",
    "    for i in 1:n\n",
    "        cMidPoint[i]=(cminus[i]+cplus[i])/2\n",
    "    end\n",
    "    optimalCost = solveLP(A,b,cMidPoint,CplexSolver(CPX_PARAM_SCRIND=0))\n",
    "    rhs = - optimalCost \n",
    "    \n",
    "    #We set the MinMax Regret problem for the first iteration\n",
    "    m = Model(solver = solver)\n",
    "    @variable(m, x[1:n]>=0)\n",
    "    @variable(m,θ)\n",
    "\n",
    "    @objective(m, Min, θ )\n",
    "    \n",
    "    @constraint(m, req[i = 1:r], sum(A[i,j]*x[j] for j in 1:n) >= b[i])\n",
    "    \n",
    "    @constraint(m,θ - sum(cMidPoint[j]*x[j] for j in 1:n) >=rhs)        \n",
    "    #print(m)\n",
    "    \n",
    "    status = solve(m)\n",
    "    #println(status)\n",
    "    #println(getvalue(x))\n",
    "    println(\"LB: \", getobjectivevalue(m))\n",
    "    \n",
    "    #Max admisible difference between consecutive solutions of our MinMax Regret Problem\n",
    "    tol=0.0001\n",
    "    \n",
    "    #Initial bounds\n",
    "    LB=getobjectivevalue(m)\n",
    "    if LB<=tol\n",
    "        LBprime=-1\n",
    "    else\n",
    "        LBprime=-10*LB\n",
    "    end\n",
    "    \n",
    "    #Tolerance to 0.0\n",
    "    EPSILON=0.0001\n",
    "    it=1\n",
    "    \n",
    "    conteo=0\n",
    "    \n",
    "    println(\"Prueba LB\",abs(LB-LBprime))\n",
    "    while abs(LB-LBprime)>=tol#conteo<=10\n",
    "        #Generating a new cut\n",
    "        rhs=0\n",
    "        x_val = getvalue(x)\n",
    "        #Analizing x we can fix some value of z+ and z- in the combinatorial subproblem\n",
    "        fixup=zeros(Int64,n)\n",
    "        fixun=zeros(Int64,n)\n",
    "        for i in 1:n\n",
    "            if x_val[i]<=EPSILON \n",
    "                fixun[i]=1\n",
    "            else\n",
    "                if x_val[i]>=(xmax[i]-EPSILON)\n",
    "                    fixup[i]=1\n",
    "                end\n",
    "            end\n",
    "        end\n",
    "        #println(\"\\t\\t\",fixup,\"\\n\")\n",
    "        #println(\"\\t\\t\",fixun,\"\\n\")\n",
    "        if it==1\n",
    "            tta=time()\n",
    "            optimalCost,cost = SubproblemLP(cplus,cminus,CplexSolver(CPX_PARAM_SCRIND=0),fixun,fixup,n,xmax,x_val,b)\n",
    "            println(\"Tiempo subproblema: \", time()-tta)\n",
    "            scens=cost\n",
    "        else\n",
    "            tta=time()\n",
    "            optimalcost,cost = SubproblemLPim(cplus,cminus,CplexSolver(CPX_PARAM_SCRIND=0),fixun,fixup,n,xmax,x_val,b,getobjectivevalue(m),time(),scens,timemax,mindis)\n",
    "            println(\"Tiempo subproblema: \", time()-tta)\n",
    "            scens=vcat(scens,cost)\n",
    "        end\n",
    "        println(\"Costo optimo subproblema: \", optimalCost)\n",
    "        #New cut\n",
    "        tt1=time()\n",
    "        rhs=solveLP(A,b,cost,CplexSolver(CPX_PARAM_SCRIND=0))\n",
    "        println(\"Tiempo RHS: \", time()-tt1)\n",
    "        @constraint(m, θ - sum(cost[j]*x[j] for j in 1:n) >= -rhs )\n",
    "        \n",
    "        #print(\"-----------------######-------------------\")\n",
    "        #print(m)\n",
    "        #print(\"-----------------######-------------------\")\n",
    "        \n",
    "        tt2=time()\n",
    "        status = solve(m)\n",
    "        println(\"Tiempo LP: \", time()-tt2)\n",
    "        println(status)\n",
    "        #println(getvalue(x))\n",
    "        #Updating bounds\n",
    "        LBprime=LB\n",
    "        LB=getobjectivevalue(m)\n",
    "        \n",
    "        #Counting consecutive LPs with small improvements (tol) in our bounds\n",
    "        #if abs(LB-LBprime)<=tol\n",
    "        #    conteo += 1\n",
    "        #else\n",
    "        #    conteo = 1\n",
    "        #end\n",
    "        println(\"LB: \", getobjectivevalue(m))\n",
    "        it += 1\n",
    "        #print(\"GAP entre soluciones consecutivas\", abs(LB-LBprime))\n",
    "    end\n",
    "    \n",
    "    println(\"TotalIteraciones: \", it)\n",
    "    println(\"maxRegret: \",getobjectivevalue(m))\n",
    "    println(\"Solución\",getvalue(x))\n",
    "end"
   ]
  },
  {
   "cell_type": "code",
   "execution_count": null,
   "metadata": {},
   "outputs": [
    {
     "name": "stdout",
     "output_type": "stream",
     "text": [
      "CPXPARAM_LPMethod                                1\n",
      "Tried aggregator 1 time.\n",
      "LP Presolve eliminated 1 rows and 1 columns.\n",
      "Reduced LP has 480 rows, 600 columns, and 278437 nonzeros.\n",
      "Presolve time = 0.23 sec. (31.30 ticks)\n",
      "\n",
      "Iteration log . . .\n",
      "Iteration:     1    Scaled infeas =            14.835535\n",
      "Iteration:     8    Objective     =          1849.610917\n",
      "LB: -3.3306690738754696e-15\n",
      "Prueba LB0.9999999999999967\n",
      "Tiempo subproblema: 7.666306953430176\n",
      "Costo optimo subproblema: 4.946175153698256\n",
      "Tiempo RHS: 0.626917839050293\n",
      "CPLEX Error  3003: Not a mixed-integer problem.\n",
      "CPXPARAM_LPMethod                                1\n",
      "\n",
      "Iteration log . . .\n",
      "Iteration:     1    Scaled infeas =             0.000000\n",
      "Iteration:     2    Objective     =             4.942340\n",
      "Tiempo LP: 0.1183919906616211\n",
      "Optimal\n",
      "LB: 0.6338729601075019\n",
      "NodeData[]\n",
      "CPLEX Error  3003: Not a mixed-integer problem.\n",
      "Tiempo subproblema: 9.651810960769653\n",
      "Costo optimo subproblema: 4.946175153698256\n",
      "Tiempo RHS: 0.6562139987945557\n",
      "CPXPARAM_LPMethod                                1\n",
      "\n",
      "Iteration log . . .\n",
      "Iteration:     1    Scaled infeas =             5.664815\n",
      "Iteration:    72    Objective     =             9.772055\n",
      "Tiempo LP: 0.16744303703308105\n",
      "Optimal\n",
      "LB: 1.5816624892642484\n",
      "NodeData[]\n",
      "Tiempo subproblema: 6.640313034057617\n",
      "Costo optimo subproblema: 4.946175153698256\n",
      "Tiempo RHS: 0.3302340698242188\n",
      "CPLEX Error  3003: Not a mixed-integer problem.\n",
      "CPXPARAM_LPMethod                                1\n",
      "\n",
      "Iteration log . . .\n",
      "Iteration:     1    Scaled infeas =             6.021385\n",
      "Iteration:    53    Objective     =            21.188090\n",
      "Tiempo LP: "
     ]
    }
   ],
   "source": [
    "solveRLPim(A,b,c_min, c_max, xmax, length(c),10,0.1)"
   ]
  },
  {
   "cell_type": "code",
   "execution_count": 3,
   "metadata": {},
   "outputs": [
    {
     "data": {
      "text/plain": [
       "buildinstance (generic function with 1 method)"
      ]
     },
     "execution_count": 3,
     "metadata": {},
     "output_type": "execute_result"
    }
   ],
   "source": [
    "function buildinstance(n,m)\n",
    "    #Vector de costos de primera etapa\n",
    "    c=zeros(n)\n",
    "    for i=1:n\n",
    "        min=round(rand()*10)\n",
    "        max=min+1+round(rand()*min*10)\n",
    "        c[i]=round(rand(Uniform(min,max)))\n",
    "        if c[i]==0\n",
    "            c[i]=1\n",
    "        end\n",
    "    end\n",
    "\n",
    "    #A matrix\n",
    "    A=round(rand(1,n)*rand(Uniform(1,30)))\n",
    "    for i=2:m\n",
    "        min=round(rand()*rand(Uniform(1,30)))\n",
    "        max=min+1+round(rand()*min*rand(Uniform(1,30)))\n",
    "        A=vcat(A,round(rand(Uniform(min,max),1,n)))\n",
    "    end\n",
    "\n",
    "    #Set b vector\n",
    "    incap=sum(A,2)\n",
    "    b=round((incap.*round(rand(Uniform(5,20),m,1))).*rand(m))\n",
    "    return c,A,b\n",
    "end"
   ]
  },
  {
   "cell_type": "code",
   "execution_count": 4,
   "metadata": {},
   "outputs": [
    {
     "data": {
      "text/plain": [
       "([15.3087,56.3713,3.36003,30.8391,9.44646,1.62924,17.7572,18.7035,16.9316,18.8202  …  23.6594,5.16577,31.1451,4.69704,12.3786,6.69545,13.9363,6.15512,4.23125,2.79593],[31.7777,70.6141,8.13105,49.3215,15.0613,2.52607,21.1685,23.7899,23.8972,30.8722  …  39.105,6.96405,38.6027,8.60773,19.6984,17.9674,23.535,11.8286,9.51433,5.49002])"
      ]
     },
     "execution_count": 4,
     "metadata": {},
     "output_type": "execute_result"
    }
   ],
   "source": [
    "c,A,b=buildinstance(600,480)\n",
    "c_min,c_max=randomcoef(c)"
   ]
  },
  {
   "cell_type": "code",
   "execution_count": null,
   "metadata": {
    "collapsed": true
   },
   "outputs": [],
   "source": [
    "c"
   ]
  },
  {
   "cell_type": "code",
   "execution_count": null,
   "metadata": {
    "collapsed": true
   },
   "outputs": [],
   "source": [
    "c_max"
   ]
  },
  {
   "cell_type": "code",
   "execution_count": null,
   "metadata": {
    "collapsed": true
   },
   "outputs": [],
   "source": [
    "c_min"
   ]
  },
  {
   "cell_type": "code",
   "execution_count": 5,
   "metadata": {},
   "outputs": [
    {
     "data": {
      "text/plain": [
       "480×1 Array{Float64,2}:\n",
       "   2.162\n",
       " 151.441\n",
       "   0.615\n",
       " 120.049\n",
       "   2.128\n",
       "   8.436\n",
       " 112.421\n",
       "  23.005\n",
       "  80.578\n",
       " 409.973\n",
       "  29.629\n",
       "   6.739\n",
       "  93.144\n",
       "   ⋮    \n",
       "  72.752\n",
       "  67.107\n",
       " 197.742\n",
       "   5.012\n",
       " 569.848\n",
       " 706.561\n",
       " 825.478\n",
       "  79.188\n",
       "  55.632\n",
       "  58.421\n",
       " 545.871\n",
       " 140.131"
      ]
     },
     "execution_count": 5,
     "metadata": {},
     "output_type": "execute_result"
    }
   ],
   "source": [
    "A=A\n",
    "b=b/1000"
   ]
  },
  {
   "cell_type": "code",
   "execution_count": null,
   "metadata": {
    "collapsed": true
   },
   "outputs": [],
   "source": []
  }
 ],
 "metadata": {
  "kernelspec": {
   "display_name": "Julia 0.5.2",
   "language": "julia",
   "name": "julia-0.5"
  },
  "language_info": {
   "file_extension": ".jl",
   "mimetype": "application/julia",
   "name": "julia",
   "version": "0.5.2"
  }
 },
 "nbformat": 4,
 "nbformat_minor": 2
}
