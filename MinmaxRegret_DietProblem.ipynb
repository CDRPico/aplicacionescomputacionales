{
 "cells": [
  {
   "cell_type": "code",
   "execution_count": 1,
   "metadata": {
    "collapsed": true
   },
   "outputs": [],
   "source": [
    "using JuMP\n",
    "using CPLEX\n",
    "#using GLPKMathProgInterface"
   ]
  },
  {
   "cell_type": "markdown",
   "metadata": {},
   "source": [
    "## THE DIET PROBLEM (CLASSICAL LINEAR PROGRAMMING MODEL)\n",
    "\n",
    "This model determines a least cost diet which meets the daily\n",
    "allowances of nutrients for a moderately active man weighing 154 lbs.\n",
    "\n",
    "We use the classical instance for the diet problem, proposed by:\n",
    "\n",
    "Dantzig, G B, Chapter 27.1. In Linear Programming and Extensions. Princeton University Press, Princeton, New Jersey, 1963\n",
    "\n",
    "Stigler's Nutrition model, the formulation is as follows:\n",
    "\n",
    "$\\min \\sum_{j\\in \\mathbb{J}} c_j x_j$\n",
    "\n",
    "s.t.\n",
    "\n",
    "$\\sum_{j \\in \\mathbb{J}} a_{ij}x_j \\ge b_i, \\quad \\forall i \\in \\mathbb{I}$\n",
    "\n",
    "$x_{j}\\ge 0, \\quad \\forall ~j \\in \\mathbb{J}$"
   ]
  },
  {
   "cell_type": "code",
   "execution_count": 2,
   "metadata": {
    "collapsed": true
   },
   "outputs": [],
   "source": [
    "A=[44.7  1411   2.0   365  0     55.4  33.3  441  0;\n",
    "    36   897    1.7   99   30.9  17.4  7.9   106  0;\n",
    "    8.4  422    15.1  9    26    3     23.5  11   60;\n",
    "    20.6 17     0.6   6    55.8  0.2   0     0    0;\n",
    "    7.4  448    16.4  19   28.1  0.8   10.3  4    0;\n",
    "    15.7 661    1     48   0     9.6   8.1   471  0;\n",
    "    41.7 0      0     0    0.2   0     0.5   5    0;\n",
    "    2.2  333    0.2   139  169.2 6.4   50.8  316  525;\n",
    "    4.4  249    0.3   37   0     18.2  3.6   79   0;\n",
    "    5.8  705    6.8   45   3.5   1     4.9   209  0;\n",
    "    2.4  138    3.7   80   69    4.3   5.8   37   862;\n",
    "    2.6  125    4     36   7.2   9     4.5   26   5369;\n",
    "    5.8  166    3.8   59   16.6  4.7   5.9   21   1184;\n",
    "    14.3 336    1.8   118  6.7   29.4  7.1   198  2522;\n",
    "    1.1  106    0     138  918.4 5.7   13.8  33   2755;\n",
    "    9.6  138    2.7   54   290.7 8.4   5.4   83   1912;\n",
    "    8.5  87     1.7   173  86.8  1.2   4.3   55   57;\n",
    "    12.8 99     2.5   154  85.7  3.9   4.3   65   257;\n",
    "    17.4 1055   3.7   459  5.1   26.9  38.2  93   0;\n",
    "    26.9 1691   11.4  792  0     38.4  24.6  217  0]\n",
    "\n",
    "A=A';\n",
    "\n",
    "b=[30,70,0.8,12,5,1.8,2.7,18,75]\n",
    "\n",
    "c=ones(20,1);"
   ]
  },
  {
   "cell_type": "markdown",
   "metadata": {},
   "source": [
    "Creating a range for the coefficient costs"
   ]
  },
  {
   "cell_type": "code",
   "execution_count": 3,
   "metadata": {},
   "outputs": [
    {
     "data": {
      "text/plain": [
       "([0.588431,0.518214,0.514366,0.666938,0.92599,0.568163,0.758576,0.535978,0.989499,0.669664,0.616462,0.95118,0.919255,0.506352,0.565266,0.98686,0.649105,0.54832,0.930277,0.623118],[1.04207,1.02117,1.00508,1.20839,1.16715,1.37359,1.22962,1.41901,1.32435,1.48514,1.11192,1.17155,1.17963,1.42518,1.37595,1.21653,1.08087,1.21337,1.1453,1.43504])"
      ]
     },
     "execution_count": 3,
     "metadata": {},
     "output_type": "execute_result"
    }
   ],
   "source": [
    "function randomcoef(c)\n",
    "    cl=zeros(length(c));\n",
    "    cu=zeros(length(c));\n",
    "    for i=1:length(c)\n",
    "        cl[i]=c[i]-rand()/2;\n",
    "        cu[i]=c[i]+rand()/2;\n",
    "    end\n",
    "    return cl,cu\n",
    "end\n",
    "c_min,c_max=randomcoef(c)"
   ]
  },
  {
   "cell_type": "markdown",
   "metadata": {},
   "source": [
    "From now on, we contruct our Min Max Regret model which is formulated as\n",
    "\n",
    "$\\min_{x} \\max_{y,s} \\sum_{j \\in \\mathbb{J}} c^s_j x_j - c^s_j y^s_j$\n",
    "\n",
    "S.t.\n",
    "\n",
    "$\\sum_{j \\in \\mathbb{J}} a_{ij}x_j \\ge b_i, \\quad \\forall i \\in \\mathbb{I}$\n",
    "\n",
    "$\\sum_{j \\in \\mathbb{J}} a_{ij}y^s_j \\ge b_i, \\quad \\forall i \\in \\mathbb{i}, \\forall s \\in \\mathbb{S}$\n",
    "\n",
    "$x_{j}\\ge 0, \\quad \\forall ~j \\in \\mathbb{J}$\n",
    "\n",
    "$y^s_{j}\\ge 0, \\quad \\forall ~j \\in \\mathbb{J}, \\forall s \\in \\mathbb{S}$\n",
    "\n",
    "$\\underline{c}_j\\le c^s_j \\le \\overline{c}_j, \\quad \\forall ~j \\in \\mathbb{J}, \\forall s \\in \\mathbb{S}$"
   ]
  },
  {
   "cell_type": "code",
   "execution_count": 4,
   "metadata": {},
   "outputs": [
    {
     "data": {
      "text/plain": [
       "solveLP (generic function with 2 methods)"
      ]
     },
     "execution_count": 4,
     "metadata": {},
     "output_type": "execute_result"
    }
   ],
   "source": [
    "function solveLP(A,b,c,solver)\n",
    "    n=length(c)\n",
    "    m=size(A,1)\n",
    "    submodel = Model(solver = solver)\n",
    "    @variable(submodel, x[1:n]>=0)\n",
    "    @objective(submodel,Min, sum(c[j]*x[j] for j in 1:n) )\n",
    "    \n",
    "    @constraint(submodel, req[i = 1:m], sum(A[i,j]*x[j] for j in 1:n) >= b[i])\n",
    "    status = solve(submodel)\n",
    "    #print(\"solucion: \",status,\"\\n\\n\\n\")\n",
    "    valor=getobjectivevalue(submodel)\n",
    "    return valor\n",
    "end\n",
    "\n",
    "#Fixing some x\n",
    "function solveLP(A,b,c,solver,v,max)\n",
    "    n=length(c)\n",
    "    m=size(A,1)\n",
    "    submodel = Model(solver = solver)\n",
    "    @variable(submodel, x[1:n]>=0)\n",
    "    @objective(submodel,Min, sum(c[j]*x[j] for j in 1:n) )\n",
    "    \n",
    "    @constraint(submodel, req[i = 1:m], sum(A[i,j]*x[j] for j in 1:n) >= b[i])\n",
    "    @constraint(submodel, sum(v[j]*x[j] for j in 1:n)==max)\n",
    "    status = solve(submodel)\n",
    "    #print(\"solucion: \",status,\"\\n\\n\\n\")\n",
    "    valor,sol=getobjectivevalue(submodel),getvalue(x)\n",
    "    return valor,sol\n",
    "end"
   ]
  },
  {
   "cell_type": "markdown",
   "metadata": {},
   "source": [
    "We'll calculate the upper bounds for $x_j$, for this purpose, a LP is solves fixing $x_j$ at its empirical maximum\n",
    "\n",
    "$\\hat{x}_j=\\max_{i:a_{ij}>0}\\Big\\{\\frac{b_j}{a_{ij}}\\Big\\},\\qquad \\forall ~j \\in J$"
   ]
  },
  {
   "cell_type": "code",
   "execution_count": 5,
   "metadata": {
    "collapsed": true
   },
   "outputs": [],
   "source": [
    "xmax=zeros(length(c));\n",
    "for j=1:length(c)\n",
    "    v=zeros(length(c));\n",
    "    v[j]=1;\n",
    "    maxim=b[A[:,j].>0]./A[:,j][A[:,j].>0]\n",
    "    xm=maximum(maxim)\n",
    "    valor,sol=solveLP(A,b,c,CplexSolver(CPX_PARAM_SCRIND=0),v,xm)\n",
    "    #validación\n",
    "    Ar=A[:,setdiff(range(1,size(A,2)),j)]*sol[setdiff(range(1,size(A,2)),j)]\n",
    "    pos=find(x->x==xm,b./A[:,j])\n",
    "    pos1=find(x->x==xm,maxim)\n",
    "    new=xm-Ar[pos]\n",
    "    if all(maxim[setdiff(range(1,length(maxim)),pos1)].<new)\n",
    "        xmax[j]=new[1]\n",
    "    else\n",
    "        xmax[j]=maximum(maxim[setdiff(range(1,length(maxim)),pos1)])\n",
    "    end\n",
    "end"
   ]
  },
  {
   "cell_type": "code",
   "execution_count": 6,
   "metadata": {},
   "outputs": [
    {
     "data": {
      "text/plain": [
       "SubproblemLP (generic function with 1 method)"
      ]
     },
     "execution_count": 6,
     "metadata": {},
     "output_type": "execute_result"
    }
   ],
   "source": [
    "#Subproblem (NP-hard) function \n",
    "function SubproblemLP(cup,cun,solver,fix1,fix2,n::Int64,xmax,xbar,b)\n",
    "    r=size(A,1)\n",
    "    m=Model(solver = solver)\n",
    "    \n",
    "    @variable(m,yup[1:n]>=0)\n",
    "    @variable(m,yun[1:n]>=0)\n",
    "    @variable(m,zup[1:n],Bin)\n",
    "    @variable(m,zun[1:n],Bin)\n",
    "    \n",
    "    @objective(m,Max,sum(cup[j]*yun[j] for j in 1:n) - sum(cun[j]*yup[j] for j in 1:n))\n",
    "    \n",
    "    @constraint(m, req[i = 1:r], sum(A[i,j]*xbar[j] for j in 1:n) + sum(A[i,j]*yup[j] for j in 1:n) - sum(A[i,j]*yun[j] for j in 1:n) >= b[i])\n",
    "    @constraint(m, plusz[j = 1:n], zup[j]+zun[j]==1)\n",
    "    @constraint(m, plusy[j = 1:n], zup[j]*(xmax[j]-xbar[j]) >= yup[j])\n",
    "    @constraint(m, minusy[j = 1:n], zun[j]*xbar[j] >= yun[j])\n",
    "    \n",
    "    for j=1:n\n",
    "        if fix1[j]==1\n",
    "            @constraint(m, zup[j]==1)\n",
    "        else\n",
    "            if fix2[j]==1\n",
    "                @constraint(m, zun[j]==1)\n",
    "            end\n",
    "        end\n",
    "    end\n",
    "    \n",
    "    status = solve(m)\n",
    "    #print(\"solucion: \",status,\"\\n\\n\\n\")\n",
    "    valor=getobjectivevalue(m)\n",
    "    zu=getvalue(zup)\n",
    "    cost_scen=zeros(Float64,n)\n",
    "    for i=1:n\n",
    "        if zu[i]==1\n",
    "            cost_scen[i]=cun[i]\n",
    "        else\n",
    "            cost_scen[i]=cup[i]\n",
    "        end\n",
    "    end    \n",
    "    return valor,cost_scen\n",
    "end"
   ]
  },
  {
   "cell_type": "code",
   "execution_count": 7,
   "metadata": {},
   "outputs": [
    {
     "data": {
      "text/plain": [
       "solveRLP (generic function with 2 methods)"
      ]
     },
     "execution_count": 7,
     "metadata": {},
     "output_type": "execute_result"
    }
   ],
   "source": [
    "function solveRLP(A,b,cminus, cplus, xmax, n::Int64, solver=CplexSolver())\n",
    "    #We initilize the algorithm solving the original LP using the midpoint scenario\n",
    "    r=size(A,1)\n",
    "    cMidPoint=zeros(Float64,n)\n",
    "    for i in 1:n\n",
    "        cMidPoint[i]=(cminus[i]+cplus[i])/2\n",
    "    end\n",
    "    optimalCost = solveLP(A,b,cMidPoint,CplexSolver(CPX_PARAM_SCRIND=0))\n",
    "    rhs = - optimalCost \n",
    "    \n",
    "    #We set the MinMax Regret problem for the first iteration\n",
    "    m = Model(solver = solver)\n",
    "    @variable(m, x[1:n]>=0)\n",
    "    @variable(m,θ)\n",
    "\n",
    "    @objective(m, Min, θ )\n",
    "    \n",
    "    @constraint(m, req[i = 1:r], sum(A[i,j]*x[j] for j in 1:n) >= b[i])\n",
    "    \n",
    "    @constraint(m,θ - sum(cMidPoint[j]*x[j] for j in 1:n) >=rhs)        \n",
    "    #print(m)\n",
    "    \n",
    "    status = solve(m)\n",
    "    #println(status)\n",
    "    \n",
    "    #Initial bounds\n",
    "    LB=getobjectivevalue(m)\n",
    "    if LB==0\n",
    "        LBprime=-1\n",
    "    else\n",
    "        LBprime=-10*LB\n",
    "    end\n",
    "    \n",
    "    #Max admisible difference between consecutive solutions of our MinMax Regret Problem\n",
    "    tol=0.001\n",
    "    \n",
    "    #Tolerance to 0.0\n",
    "    EPSILON=0.0001\n",
    "    it=1\n",
    "    #How many consecutive solutions we want to allow with small differences (tol) till the algorithm stop, see while condition\n",
    "    conteo=0\n",
    "    \n",
    "    while conteo<=10\n",
    "        #Generating a new cut\n",
    "        rhs=0\n",
    "        x_val = getvalue(x)\n",
    "        #Analizing x we can fix some value of z+ and z- in the combinatorial subproblem\n",
    "        fixup=zeros(Int64,n)\n",
    "        fixun=zeros(Int64,n)\n",
    "        for i in 1:n\n",
    "            if x_val[i]<=EPSILON \n",
    "                fixun[i]=1\n",
    "            else\n",
    "                if x_val[i]<=(xmax[i]-EPSILON)\n",
    "                    fixup[i]=1\n",
    "                end\n",
    "            end\n",
    "        end\n",
    "        #println(\"\\t\\t\",fixup,\"\\n\")\n",
    "        #println(\"\\t\\t\",fixun,\"\\n\")\n",
    "        optimalCost,cost = SubproblemLP(cplus,cminus,CplexSolver(CPX_PARAM_SCRIND=0),fixun,fixup,n,xmax,x_val,b)\n",
    "        \n",
    "        #New cut\n",
    "        @constraint(m, θ - sum(cost[j]*x[j] for j in 1:n) >= rhs )\n",
    "        \n",
    "        status = solve(m)\n",
    "        println(status)\n",
    "        #Updating bounds\n",
    "        LBprime=LB\n",
    "        LB=getobjectivevalue(m)\n",
    "        \n",
    "        #Counting consecutive LPs with small improvements (tol) in our bounds\n",
    "        if abs(LB-LBprime)<=tol\n",
    "            conteo += 1\n",
    "        else\n",
    "            conteo = 1\n",
    "        end\n",
    "        \n",
    "        it += 1\n",
    "        print(\"GAP entre soluciones consecutivas\", abs(LB-LBprime))\n",
    "    end\n",
    "    \n",
    "    println(\"TotalIteraciones: \", it)\n",
    "    println(\"maxRegret: \",getobjectivevalue(m))\n",
    "    println(\"Solución\",getvalue(x))\n",
    "end"
   ]
  },
  {
   "cell_type": "code",
   "execution_count": 8,
   "metadata": {},
   "outputs": [
    {
     "name": "stdout",
     "output_type": "stream",
     "text": [
      "Tried aggregator 1 time.\n",
      "LP Presolve eliminated 1 rows and 5 columns.\n",
      "Reduced LP has 9 rows, 16 columns, and 133 nonzeros.\n",
      "Presolve time = 0.00 sec. (0.03 ticks)\n",
      "\n",
      "Iteration log . . .\n",
      "Iteration:     1   Dual objective     =            -0.016468\n",
      "CPLEX Error  3003: Not a mixed-integer problem.\n",
      "\n",
      "Iteration log . . .\n",
      "Iteration:     1   Dual objective     =             0.158943\n",
      "Optimal\n",
      "GAP entre soluciones consecutivas0.44078111697274147CPLEX Error  3003: Not a mixed-integer problem.\n",
      "\n",
      "Iteration log . . .\n",
      "Iteration:     1   Dual objective     =             0.560485\n",
      "Optimal\n",
      "GAP entre soluciones consecutivas0.13209323422647568CPLEX Error  3003: Not a mixed-integer problem.\n",
      "\n",
      "Iteration log . . .\n",
      "Iteration:     1   Dual objective     =             0.602451\n",
      "Optimal\n",
      "GAP entre soluciones consecutivas0.13776558397265404CPLEX Error  3003: Not a mixed-integer problem.\n",
      "\n",
      "Iteration log . . .\n",
      "Iteration:     1   Dual objective     =             0.717338\n",
      "Optimal\n",
      "GAP entre soluciones consecutivas0.006697770280127302CPLEX Error  3003: Not a mixed-integer problem.\n",
      "\n",
      "Iteration log . . .\n",
      "Iteration:     1   Dual objective     =             0.718223\n",
      "Optimal\n",
      "GAP entre soluciones consecutivas0.0008856176173972496CPLEX Error  3003: Not a mixed-integer problem.\n",
      "\n",
      "Iteration log . . .\n",
      "Iteration:     1   Dual objective     =             0.718910\n",
      "Optimal\n",
      "GAP entre soluciones consecutivas0.0006864800855637121CPLEX Error  3003: Not a mixed-integer problem.\n",
      "\n",
      "Iteration log . . .\n",
      "Iteration:     1   Dual objective     =             0.719074\n",
      "Optimal\n",
      "GAP entre soluciones consecutivas0.00016446843473116868CPLEX Error  3003: Not a mixed-integer problem.\n",
      "Using devex.\n",
      "Optimal\n",
      "GAP entre soluciones consecutivas3.3306690738754696e-16CPLEX Error  3003: Not a mixed-integer problem.\n",
      "Using devex.\n",
      "Optimal\n",
      "GAP entre soluciones consecutivas0.0CPLEX Error  3003: Not a mixed-integer problem.\n",
      "Using devex.\n",
      "Optimal\n",
      "GAP entre soluciones consecutivas0.0CPLEX Error  3003: Not a mixed-integer problem.\n",
      "Using devex.\n",
      "Optimal\n",
      "GAP entre soluciones consecutivas0.0CPLEX Error  3003: Not a mixed-integer problem.\n",
      "Using devex.\n",
      "Optimal\n",
      "GAP entre soluciones consecutivas0.0CPLEX Error  3003: Not a mixed-integer problem.\n",
      "Using devex.\n",
      "Optimal\n",
      "GAP entre soluciones consecutivas0.0CPLEX Error  3003: Not a mixed-integer problem.\n",
      "Using devex.\n",
      "Optimal\n",
      "GAP entre soluciones consecutivas0.0TotalIteraciones: 15\n",
      "maxRegret: 0.477074271589691\n",
      "Solución[0.670356,0.0,0.0,0.0,0.0,0.0,0.0,0.0,0.0,0.0,0.0,0.0112206,0.0,0.0,0.00535628,0.0,0.0,0.0,0.0,0.0]\n",
      "CPLEX Error  3003: Not a mixed-integer problem.\n"
     ]
    }
   ],
   "source": [
    "solveRLP(A,b,c_min, c_max, xmax, length(c))"
   ]
  },
  {
   "cell_type": "code",
   "execution_count": null,
   "metadata": {
    "collapsed": true
   },
   "outputs": [],
   "source": []
  }
 ],
 "metadata": {
  "kernelspec": {
   "display_name": "Julia 0.5.2",
   "language": "julia",
   "name": "julia-0.5"
  },
  "language_info": {
   "file_extension": ".jl",
   "mimetype": "application/julia",
   "name": "julia",
   "version": "0.5.2"
  }
 },
 "nbformat": 4,
 "nbformat_minor": 2
}
