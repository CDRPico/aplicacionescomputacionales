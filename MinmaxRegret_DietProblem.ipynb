{
 "cells": [
  {
   "cell_type": "code",
   "execution_count": 2,
   "metadata": {
    "collapsed": true
   },
   "outputs": [],
   "source": [
    "using JuMP\n",
    "using CPLEX\n",
    "#using GLPKMathProgInterface"
   ]
  },
  {
   "cell_type": "markdown",
   "metadata": {},
   "source": [
    "## THE DIET PROBLEM (CLASSICAL LINEAR PROGRAMMING MODEL)\n",
    "\n",
    "This model determines a least cost diet which meets the daily\n",
    "allowances of nutrients for a moderately active man weighing 154 lbs.\n",
    "\n",
    "We use the classical instance for the diet problem, proposed by:\n",
    "\n",
    "Dantzig, G B, Chapter 27.1. In Linear Programming and Extensions. Princeton University Press, Princeton, New Jersey, 1963\n",
    "\n",
    "Stigler's Nutrition model, the formulation is as follows:\n",
    "\n",
    "$\\min \\sum_{j\\in \\mathbb{J}} c_j x_j$\n",
    "\n",
    "s.t.\n",
    "\n",
    "$\\sum_{j \\in \\mathbb{J}} a_{ij}x_j \\ge b_i, \\quad \\forall i \\in \\mathbb{I}$\n",
    "\n",
    "$x_{j}\\ge 0, \\quad \\forall ~j \\in \\mathbb{J}$"
   ]
  },
  {
   "cell_type": "code",
   "execution_count": 3,
   "metadata": {
    "collapsed": true
   },
   "outputs": [],
   "source": [
    "A=[44.7  1411   2.0   365  0     55.4  33.3  441  0;\n",
    "    36   897    1.7   99   30.9  17.4  7.9   106  0;\n",
    "    8.4  422    15.1  9    26    3     23.5  11   60;\n",
    "    20.6 17     0.6   6    55.8  0.2   0     0    0;\n",
    "    7.4  448    16.4  19   28.1  0.8   10.3  4    0;\n",
    "    15.7 661    1     48   0     9.6   8.1   471  0;\n",
    "    41.7 0      0     0    0.2   0     0.5   5    0;\n",
    "    2.2  333    0.2   139  169.2 6.4   50.8  316  525;\n",
    "    4.4  249    0.3   37   0     18.2  3.6   79   0;\n",
    "    5.8  705    6.8   45   3.5   1     4.9   209  0;\n",
    "    2.4  138    3.7   80   69    4.3   5.8   37   862;\n",
    "    2.6  125    4     36   7.2   9     4.5   26   5369;\n",
    "    5.8  166    3.8   59   16.6  4.7   5.9   21   1184;\n",
    "    14.3 336    1.8   118  6.7   29.4  7.1   198  2522;\n",
    "    1.1  106    0     138  918.4 5.7   13.8  33   2755;\n",
    "    9.6  138    2.7   54   290.7 8.4   5.4   83   1912;\n",
    "    8.5  87     1.7   173  86.8  1.2   4.3   55   57;\n",
    "    12.8 99     2.5   154  85.7  3.9   4.3   65   257;\n",
    "    17.4 1055   3.7   459  5.1   26.9  38.2  93   0;\n",
    "    26.9 1691   11.4  792  0     38.4  24.6  217  0]\n",
    "\n",
    "A=A';\n",
    "\n",
    "b=[30,70,0.8,12,5,1.8,2.7,18,75]\n",
    "\n",
    "c=ones(20,1);"
   ]
  },
  {
   "cell_type": "markdown",
   "metadata": {},
   "source": [
    "Creating a range for the coefficient costs"
   ]
  },
  {
   "cell_type": "code",
   "execution_count": 4,
   "metadata": {},
   "outputs": [
    {
     "data": {
      "text/plain": [
       "([0.810384,0.789347,0.912499,0.82459,0.656189,0.670357,0.52806,0.659357,0.720041,0.565775,0.553959,0.583354,0.606064,0.867737,0.600042,0.901423,0.946304,0.510699,0.83475,0.730659],[1.04314,1.04229,1.08797,1.17244,1.16366,1.27251,1.42209,1.13019,1.1377,1.42773,1.06819,1.35642,1.49554,1.40557,1.43377,1.11824,1.359,1.21985,1.3315,1.49041])"
      ]
     },
     "execution_count": 4,
     "metadata": {},
     "output_type": "execute_result"
    }
   ],
   "source": [
    "function randomcoef(c)\n",
    "    cl=zeros(length(c));\n",
    "    cu=zeros(length(c));\n",
    "    for i=1:length(c)\n",
    "        cl[i]=c[i]-rand()/2;\n",
    "        cu[i]=c[i]+rand()/2;\n",
    "    end\n",
    "    return cl,cu\n",
    "end\n",
    "c_min,c_max=randomcoef(c)"
   ]
  },
  {
   "cell_type": "markdown",
   "metadata": {},
   "source": [
    "From now on, we contruct our Min Max Regret model which is formulated as\n",
    "\n",
    "$\\min_{x} \\max_{y,s} \\sum_{j \\in \\mathbb{J}} c^s_j x_j - c^s_j y^s_j$\n",
    "\n",
    "S.t.\n",
    "\n",
    "$\\sum_{j \\in \\mathbb{J}} a_{ij}x_j \\ge b_i, \\quad \\forall i \\in \\mathbb{I}$\n",
    "\n",
    "$\\sum_{j \\in \\mathbb{J}} a_{ij}y^s_j \\ge b_i, \\quad \\forall i \\in \\mathbb{i}, \\forall s \\in \\mathbb{S}$\n",
    "\n",
    "$x_{j}\\ge 0, \\quad \\forall ~j \\in \\mathbb{J}$\n",
    "\n",
    "$y^s_{j}\\ge 0, \\quad \\forall ~j \\in \\mathbb{J}, \\forall s \\in \\mathbb{S}$\n",
    "\n",
    "$\\underline{c}_j\\le c^s_j \\le \\overline{c}_j, \\quad \\forall ~j \\in \\mathbb{J}, \\forall s \\in \\mathbb{S}$"
   ]
  },
  {
   "cell_type": "code",
   "execution_count": 5,
   "metadata": {},
   "outputs": [
    {
     "data": {
      "text/plain": [
       "solveLP (generic function with 2 methods)"
      ]
     },
     "execution_count": 5,
     "metadata": {},
     "output_type": "execute_result"
    }
   ],
   "source": [
    "function solveLP(A,b,c,solver)\n",
    "    n=length(c)\n",
    "    m=size(A,1)\n",
    "    submodel = Model(solver = solver)\n",
    "    @variable(submodel, x[1:n]>=0)\n",
    "    @objective(submodel,Min, sum(c[j]*x[j] for j in 1:n) )\n",
    "    \n",
    "    @constraint(submodel, req[i = 1:m], sum(A[i,j]*x[j] for j in 1:n) >= b[i])\n",
    "    status = solve(submodel)\n",
    "    #print(\"solucion: \",status,\"\\n\\n\\n\")\n",
    "    valor=getobjectivevalue(submodel)\n",
    "    return valor\n",
    "end\n",
    "\n",
    "#Fixing some x\n",
    "function solveLP(A,b,c,solver,v,max)\n",
    "    n=length(c)\n",
    "    m=size(A,1)\n",
    "    submodel = Model(solver = solver)\n",
    "    @variable(submodel, x[1:n]>=0)\n",
    "    @objective(submodel,Min, sum(c[j]*x[j] for j in 1:n) )\n",
    "    \n",
    "    @constraint(submodel, req[i = 1:m], sum(A[i,j]*x[j] for j in 1:n) >= b[i])\n",
    "    @constraint(submodel, sum(v[j]*x[j] for j in 1:n)==max)\n",
    "    status = solve(submodel)\n",
    "    #print(\"solucion: \",status,\"\\n\\n\\n\")\n",
    "    valor,sol=getobjectivevalue(submodel),getvalue(x)\n",
    "    return valor,sol\n",
    "end"
   ]
  },
  {
   "cell_type": "markdown",
   "metadata": {},
   "source": [
    "Calcularemos los uuper bounds de $x_j$, para ello resolveremos un problema de optimización lineal clásico fijando el valor de $x_j$ en su máximo empírico \n",
    "\n",
    "$\\hat{x}_j=\\max_{i:a_{ij}>0}\\Big\\{\\frac{b_j}{a_{ij}}\\Big\\},\\qquad \\forall ~j \\in J$"
   ]
  },
  {
   "cell_type": "code",
   "execution_count": 6,
   "metadata": {
    "collapsed": true
   },
   "outputs": [],
   "source": [
    "xmax=zeros(length(c));\n",
    "for j=1:length(c)\n",
    "    v=zeros(length(c));\n",
    "    v[j]=1;\n",
    "    maxim=b[A[:,j].>0]./A[:,j][A[:,j].>0]\n",
    "    xm=maximum(maxim)\n",
    "    valor,sol=solveLP(A,b,c,CplexSolver(CPX_PARAM_SCRIND=0),v,xm)\n",
    "    #validación\n",
    "    Ar=A[:,setdiff(range(1,size(A,2)),j)]*sol[setdiff(range(1,size(A,2)),j)]\n",
    "    pos=find(x->x==xm,b./A[:,j])\n",
    "    pos1=find(x->x==xm,maxim)\n",
    "    new=xm-Ar[pos]\n",
    "    if all(maxim[setdiff(range(1,length(maxim)),pos1)].<new)\n",
    "        xmax[j]=new[1]\n",
    "    else\n",
    "        xmax[j]=maximum(maxim[setdiff(range(1,length(maxim)),pos1)])\n",
    "    end\n",
    "end"
   ]
  },
  {
   "cell_type": "code",
   "execution_count": 7,
   "metadata": {},
   "outputs": [
    {
     "data": {
      "text/plain": [
       "SubproblemLP (generic function with 1 method)"
      ]
     },
     "execution_count": 7,
     "metadata": {},
     "output_type": "execute_result"
    }
   ],
   "source": [
    "#Subproblem (NP-hard) function \n",
    "function SubproblemLP(cup,cun,solver,fix1,fix2,n::Int64,xmax,x,b)\n",
    "    r=size(A,1)\n",
    "    m=Model(solver = solver)\n",
    "    \n",
    "    @variable(m,yup[1:n]>=0)\n",
    "    @variable(m,yun[1:n]>=0)\n",
    "    @variable(m,zup[1:n],Bin)\n",
    "    @variable(m,zun[1:n],Bin)\n",
    "    \n",
    "    @objective(m,Min,sum(cup[j]*yun[j] for j in 1:n) + sum(cun[j]*yup[j] for j in 1:n))\n",
    "    \n",
    "    @constraint(m, req[i = 1:r], sum(A[i,j]*x[j] for j in 1:n) + sum(A[i,j]*yup[j] for j in 1:n) - sum(A[i,j]*yup[j] for j in 1:n) >= b[i])\n",
    "    @constraint(m, plusz[j = 1:n], zup[j]+zun[j]==1)\n",
    "    @constraint(m, plusy[j = 1:n], zup[j]*(xmax[j]-x[j]) >= yup[j])\n",
    "    @constraint(m, minusy[j = 1:n], zun[j]*x[j] >= yun[j])\n",
    "    for j=1:n\n",
    "        if fix1[j]==1\n",
    "            @constraint(n, zup[j]==1)\n",
    "        else\n",
    "            if fix2[j]==1\n",
    "                @constraint(n, zun[j]==1)\n",
    "            end\n",
    "        end\n",
    "    end\n",
    "    status = solve(submodel)\n",
    "    #print(\"solucion: \",status,\"\\n\\n\\n\")\n",
    "    valor=getobjectivevalue(m)\n",
    "    zu=getvalue(zup)\n",
    "    cost_scen=zeros(Float64,n)\n",
    "    for i=1:n\n",
    "        if zu[i]==1\n",
    "            cost_scen[j]=cun[j]\n",
    "        else\n",
    "            cost_scen[j]=cup[j]\n",
    "        end\n",
    "    end    \n",
    "    return valor,cost_scen\n",
    "end"
   ]
  },
  {
   "cell_type": "code",
   "execution_count": 8,
   "metadata": {},
   "outputs": [
    {
     "data": {
      "text/plain": [
       "solveRLP (generic function with 2 methods)"
      ]
     },
     "execution_count": 8,
     "metadata": {},
     "output_type": "execute_result"
    }
   ],
   "source": [
    "function solveRLP(A,b,cminus, cplus, xmax, n::Int64, solver=CplexSolver())\n",
    "    r=size(A,1)\n",
    "    m = Model(solver = solver)\n",
    "    \n",
    "    @variable(m, x[1:n]>=0)\n",
    "    @variable(m,θ)\n",
    "\n",
    "    @objective(m, Min, θ )\n",
    "    \n",
    "    @constraint(m, req[i = 1:r], sum(A[i,j]*x[j] for j in 1:n) >= b[i])\n",
    "    \n",
    "    \n",
    "    cMidPoint=zeros(Float64,n)\n",
    "    for i in 1:n\n",
    "        cMidPoint[i]=(cminus[i]+cplus[i])/2\n",
    "    end\n",
    "    optimalCost = solveLP(A,b,cMidPoint,CplexSolver(CPX_PARAM_SCRIND=0))\n",
    "    rhs = - optimalCost \n",
    "    for i in 1:n\n",
    "        rhs += cMidPoint[i]*x[i]\n",
    "    end\n",
    "    @constraint(m,θ >=rhs)        \n",
    "    #print(m)\n",
    "\n",
    "    tt = 0.0\n",
    "    called = 0.0\n",
    "    separationtime=0.0\n",
    "    separated=0\n",
    "    \n",
    "    \n",
    "    function lazyGenerator(m)\n",
    "        #print(\"\\n\\n entro en generador de cortes\")\n",
    "        EPSILON=0.00001\n",
    "        tt = time()\n",
    "        called += 1\n",
    "        x_val = getvalue(x)\n",
    "                \n",
    "        fixup=zeros(Int64,n)\n",
    "        fixun=zeros(Int64,n)\n",
    "        for i in 1:n\n",
    "            if x_val[i]<EPSILON \n",
    "                fixun[i]=1\n",
    "            else\n",
    "                if x_val[i]<(xmax-EPSILON)\n",
    "                    fixup[i]=1\n",
    "                end\n",
    "            end\n",
    "        end\n",
    "        println(\"\\t\\t\",fixup,\"\\n\")\n",
    "        println(\"\\t\\t\",fixun,\"\\n\")\n",
    "        optimalCost,cost = SubproblemLP(cplus,cminus,CplexSolver(CPX_PARAM_SCRIND=0),fixun,fixup,n,xmax,x,b)\n",
    "        #println(\"\\t\\t\",optimalCost,\"\\n\")\n",
    "       \n",
    "        rhs = - optimalCost \n",
    "        for i in 1:n\n",
    "            rhs += cost[i]*x[i]\n",
    "        end\n",
    "        #println(rhs)\n",
    "        #print(\"*\")\n",
    "        @lazyconstraint(m, θ >= rhs )\n",
    "        separated += 1\n",
    "        separationtime += time()-tt\n",
    "    end\n",
    "    addlazycallback(m, lazyGenerator) #es necesario un corte lazy ya que le indica al programa que no la he incluido\n",
    "    print(m)\n",
    "    status = solve(m)\n",
    "    println(status)\n",
    "    println(\"maxRegret: \",getobjectivevalue(m))\n",
    "    println(\"maxRegret: \",getvalue(x))\n",
    "end"
   ]
  },
  {
   "cell_type": "code",
   "execution_count": 9,
   "metadata": {},
   "outputs": [
    {
     "name": "stdout",
     "output_type": "stream",
     "text": [
      "Min θ\n",
      "Subject to\n",
      " 44.7 x[1] + 36 x[2] + 8.4 x[3] + 20.6 x[4] + 7.4 x[5] + 15.7 x[6] + 41.7 x[7] + 2.2 x[8] + 4.4 x[9] + 5.8 x[10] + 2.4 x[11] + 2.6 x[12] + 5.8 x[13] + 14.3 x[14] + 1.1 x[15] + 9.6 x[16] + 8.5 x[17] + 12.8 x[18] + 17.4 x[19] + 26.9 x[20] ≥ 30\n",
      " 1411 x[1] + 897 x[2] + 422 x[3] + 17 x[4] + 448 x[5] + 661 x[6] + 333 x[8] + 249 x[9] + 705 x[10] + 138 x[11] + 125 x[12] + 166 x[13] + 336 x[14] + 106 x[15] + 138 x[16] + 87 x[17] + 99 x[18] + 1055 x[19] + 1691 x[20] ≥ 70\n",
      " 2 x[1] + 1.7 x[2] + 15.1 x[3] + 0.6 x[4] + 16.4 x[5] + x[6] + 0.2 x[8] + 0.3 x[9] + 6.8 x[10] + 3.7 x[11] + 4 x[12] + 3.8 x[13] + 1.8 x[14] + 2.7 x[16] + 1.7 x[17] + 2.5 x[18] + 3.7 x[19] + 11.4 x[20] ≥ 0.8\n",
      " 365 x[1] + 99 x[2] + 9 x[3] + 6 x[4] + 19 x[5] + 48 x[6] + 139 x[8] + 37 x[9] + 45 x[10] + 80 x[11] + 36 x[12] + 59 x[13] + 118 x[14] + 138 x[15] + 54 x[16] + 173 x[17] + 154 x[18] + 459 x[19] + 792 x[20] ≥ 12\n",
      " 30.9 x[2] + 26 x[3] + 55.8 x[4] + 28.1 x[5] + 0.2 x[7] + 169.2 x[8] + 3.5 x[10] + 69 x[11] + 7.2 x[12] + 16.6 x[13] + 6.7 x[14] + 918.4 x[15] + 290.7 x[16] + 86.8 x[17] + 85.7 x[18] + 5.1 x[19] ≥ 5\n",
      " 55.4 x[1] + 17.4 x[2] + 3 x[3] + 0.2 x[4] + 0.8 x[5] + 9.6 x[6] + 6.4 x[8] + 18.2 x[9] + x[10] + 4.3 x[11] + 9 x[12] + 4.7 x[13] + 29.4 x[14] + 5.7 x[15] + 8.4 x[16] + 1.2 x[17] + 3.9 x[18] + 26.9 x[19] + 38.4 x[20] ≥ 1.8\n",
      " 33.3 x[1] + 7.9 x[2] + 23.5 x[3] + 10.3 x[5] + 8.1 x[6] + 0.5 x[7] + 50.8 x[8] + 3.6 x[9] + 4.9 x[10] + 5.8 x[11] + 4.5 x[12] + 5.9 x[13] + 7.1 x[14] + 13.8 x[15] + 5.4 x[16] + 4.3 x[17] + 4.3 x[18] + 38.2 x[19] + 24.6 x[20] ≥ 2.7\n",
      " 441 x[1] + 106 x[2] + 11 x[3] + 4 x[5] + 471 x[6] + 5 x[7] + 316 x[8] + 79 x[9] + 209 x[10] + 37 x[11] + 26 x[12] + 21 x[13] + 198 x[14] + 33 x[15] + 83 x[16] + 55 x[17] + 65 x[18] + 93 x[19] + 217 x[20] ≥ 18\n",
      " 60 x[3] + 525 x[8] + 862 x[11] + 5369 x[12] + 1184 x[13] + 2522 x[14] + 2755 x[15] + 1912 x[16] + 57 x[17] + 257 x[18] ≥ 75\n",
      " θ - 0.926763301878921 x[1] - 0.9158182979319229 x[2] - 1.0002367383583253 x[3] - 0.9985172357584368 x[4] - 0.9099256792954968 x[5] - 0.971434079080074 x[6] - 0.975073175507497 x[7] - 0.894773062760051 x[8] - 0.9288701183281376 x[9] - 0.9967542213159162 x[10] - 0.8110736005398358 x[11] - 0.969886375822135 x[12] - 1.0508001623267849 x[13] - 1.136653250692691 x[14] - 1.0169069733116232 x[15] - 1.0098297190166763 x[16] - 1.1526511087491271 x[17] - 0.8652745473751832 x[18] - 1.083124965721938 x[19] - 1.1105361936968439 x[20] ≥ -0.6375913382028622\n",
      " x[i] ≥ 0 ∀ i ∈ {1,2,…,19,20}\n",
      " θ\n",
      "CPXPARAM_Preprocessing_Reduce                    1\n",
      "CPXPARAM_Preprocessing_Linear                    0\n",
      "CPXPARAM_MIP_Strategy_CallbackReducedLP          0\n",
      "Tried aggregator 1 time.\n",
      "No LP presolve or aggregator reductions.\n",
      "Presolve time = 0.00 sec. (0.01 ticks)\n",
      "\n",
      "Iteration log . . .\n",
      "Iteration:     1   Scaled dual infeas =             0.000000\n",
      "Iteration:     2   Dual objective     =            -0.015603\n",
      "Optimal\n",
      "maxRegret: 0.0\n",
      "maxRegret: [0.670356,0.0,0.0,0.0,0.0,0.0,0.0,0.0,0.0,0.0,0.0,0.0112206,0.0,0.0,0.00535628,0.0,0.0,0.0,0.0,0.0]\n",
      "CPLEX Error  3003: Not a mixed-integer problem.\n"
     ]
    }
   ],
   "source": [
    "solveRLP(A,b,c_min, c_max, xmax, length(c))"
   ]
  },
  {
   "cell_type": "code",
   "execution_count": null,
   "metadata": {
    "collapsed": true
   },
   "outputs": [],
   "source": []
  }
 ],
 "metadata": {
  "kernelspec": {
   "display_name": "Julia 0.5.2",
   "language": "julia",
   "name": "julia-0.5"
  },
  "language_info": {
   "file_extension": ".jl",
   "mimetype": "application/julia",
   "name": "julia",
   "version": "0.5.2"
  }
 },
 "nbformat": 4,
 "nbformat_minor": 2
}
